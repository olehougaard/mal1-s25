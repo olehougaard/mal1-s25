{
 "cells": [
  {
   "cell_type": "code",
   "execution_count": 6,
   "metadata": {},
   "outputs": [
    {
     "name": "stdout",
     "output_type": "stream",
     "text": [
      "[[ 0.25  0.5 ]\n",
      " [ 0.5  -1.  ]]\n"
     ]
    }
   ],
   "source": [
    "import numpy as np\n",
    "\n",
    "M = np.array([[2, 1], [1, -.5]])\n",
    "M_inv = np.linalg.inv(M)\n",
    "print(M_inv)"
   ]
  },
  {
   "cell_type": "code",
   "execution_count": 7,
   "metadata": {},
   "outputs": [
    {
     "name": "stdout",
     "output_type": "stream",
     "text": [
      "[[2.]\n",
      " [5.]]\n"
     ]
    }
   ],
   "source": [
    "y = np.array([[9], [-.5]])\n",
    "x = np.matmul(M_inv, y)\n",
    "print(x)"
   ]
  },
  {
   "cell_type": "code",
   "execution_count": 8,
   "metadata": {},
   "outputs": [],
   "source": [
    "import pandas as pd\n",
    "from sklearn.preprocessing import PolynomialFeatures\n",
    "\n",
    "energy = pd.read_csv('temp_energy.csv')\n",
    "X = energy.drop(['Energy consumption/kWh'], axis=1)\n",
    "y = energy['Energy consumption/kWh']\n",
    "\n",
    "poly = PolynomialFeatures(degree = 1)\n",
    "X1 = poly.fit_transform(X)\n"
   ]
  },
  {
   "cell_type": "code",
   "execution_count": 10,
   "metadata": {},
   "outputs": [
    {
     "name": "stdout",
     "output_type": "stream",
     "text": [
      "[33.71555556 -1.00933333]\n"
     ]
    }
   ],
   "source": [
    "XT = X1.transpose()\n",
    "\n",
    "XTX = np.matmul(XT, X1)\n",
    "\n",
    "XTX1 = np.linalg.inv(XTX)\n",
    "\n",
    "PseudoInv = np.matmul(XTX1, XT)\n",
    "\n",
    "Theta = np.matmul(PseudoInv, y.to_numpy())\n",
    "print(Theta)"
   ]
  }
 ],
 "metadata": {
  "kernelspec": {
   "display_name": "Python 3",
   "language": "python",
   "name": "python3"
  },
  "language_info": {
   "codemirror_mode": {
    "name": "ipython",
    "version": 3
   },
   "file_extension": ".py",
   "mimetype": "text/x-python",
   "name": "python",
   "nbconvert_exporter": "python",
   "pygments_lexer": "ipython3",
   "version": "3.12.7"
  }
 },
 "nbformat": 4,
 "nbformat_minor": 2
}
