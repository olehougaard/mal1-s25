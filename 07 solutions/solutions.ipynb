{
 "cells": [
  {
   "cell_type": "code",
   "execution_count": 2,
   "metadata": {},
   "outputs": [],
   "source": [
    "import numpy as np"
   ]
  },
  {
   "cell_type": "markdown",
   "metadata": {},
   "source": [
    "## Exercise 7.2"
   ]
  },
  {
   "cell_type": "code",
   "execution_count": 10,
   "metadata": {},
   "outputs": [
    {
     "name": "stdout",
     "output_type": "stream",
     "text": [
      "2)\n",
      "0.3333333333333333 0.5 0.6666666666666666\n",
      "\n",
      "4)\n",
      "[3.76012478 0.35435113 2.29486791]\n",
      "[0.79101422 0.02624675 0.18273903]\n",
      "1.0\n",
      "\n",
      "[-1.30888961  1.92437943 -1.26038714]\n",
      "[0.0364802  0.92522661 0.03829319]\n",
      "1.0\n",
      "\n",
      "[-1.39565464  3.70277534 -2.07938885]\n",
      "[0.00605073 0.99089529 0.00305398]\n",
      "1.0\n",
      "\n",
      "[-3.81746263  2.06495751  3.1646061 ]\n",
      "[6.95981100e-04 2.49631884e-01 7.49672135e-01]\n",
      "1.0\n",
      "\n",
      "[-4.93056645  2.02174714 -3.90190792]\n",
      "[9.52958848e-04 9.96381319e-01 2.66572207e-03]\n",
      "1.0\n",
      "\n",
      "5)\n",
      "logistic =  0.9843817227779923\n",
      "softmax =  [0.01561828 0.98438172]\n",
      "\n",
      "logistic =  0.9923663603781654\n",
      "softmax =  [0.00763364 0.99236636]\n",
      "\n",
      "logistic =  0.008844234118521779\n",
      "softmax =  [0.99115577 0.00884423]\n",
      "\n",
      "logistic =  0.967125070202247\n",
      "softmax =  [0.03287493 0.96712507]\n",
      "\n",
      "logistic =  0.021766400487595573\n",
      "softmax =  [0.9782336 0.0217664]\n",
      "\n"
     ]
    }
   ],
   "source": [
    "# 1)\n",
    "\n",
    "def logistic(t):\n",
    "  return 1/(1 + np.exp(-t))\n",
    "\n",
    "# 2)\n",
    "\n",
    "print(\"2)\")\n",
    "print(logistic(-np.log(2)), logistic(0), logistic(np.log(2)))\n",
    "print()\n",
    "\n",
    "# 3)\n",
    "\n",
    "def softmax(v):\n",
    "  exps = np.exp(v)\n",
    "  sum = np.sum(exps)\n",
    "  return exps / sum\n",
    "\n",
    "# 4)\n",
    "\n",
    "print(\"4)\")\n",
    "for _ in range(5):\n",
    "  rand_array = np.random.rand(3) * 10 - 5\n",
    "  print(rand_array)\n",
    "  sm = softmax(rand_array)\n",
    "  print(sm)\n",
    "  print(np.sum(sm))\n",
    "  print()\n",
    "\n",
    "# 5)\n",
    "print(\"5)\")\n",
    "for _ in range(5):\n",
    "  rand_number = np.random.rand() * 10 - 5\n",
    "  print(\"logistic = \", logistic(rand_number))\n",
    "  print(\"softmax = \", softmax([0, rand_number]))\n",
    "  print()\n"
   ]
  },
  {
   "cell_type": "markdown",
   "metadata": {},
   "source": [
    "## Exercise 7.3"
   ]
  },
  {
   "cell_type": "code",
   "execution_count": 14,
   "metadata": {},
   "outputs": [
    {
     "name": "stdout",
     "output_type": "stream",
     "text": [
      "[2.29841921]\n",
      "[0.90874603]\n",
      "[ True]\n"
     ]
    }
   ],
   "source": [
    "coef = np.array([[-0.85433652,  2.74057947,  0.41217626]])\n",
    "\n",
    "log_odds = coef @ np.array([1, 1, 1])\n",
    "print(log_odds)\n",
    "\n",
    "# 1)\n",
    "probability = logistic(log_odds)\n",
    "print(probability)\n",
    "\n",
    "# 2)\n",
    "print(probability >= .5)"
   ]
  },
  {
   "cell_type": "markdown",
   "metadata": {},
   "source": [
    "## Exercise 7.4"
   ]
  },
  {
   "cell_type": "code",
   "execution_count": null,
   "metadata": {},
   "outputs": [
    {
     "name": "stdout",
     "output_type": "stream",
     "text": [
      "[ 0.53711902 -0.40302374 -0.13409528]\n",
      "[0.52585645 0.20538484 0.2687587 ]\n",
      "0\n"
     ]
    }
   ],
   "source": [
    "coef = np.array([[ 0.95978307, -0.36742618, -0.05523787],\n",
    "       [-1.04501035,  0.25190438,  0.39008223],\n",
    "       [ 0.08522728,  0.1155218,  -0.33484436]])\n",
    "\n",
    "log_odds = coef @ np.array([1, 1, 1])\n",
    "print(log_odds)\n",
    "\n",
    "# 1)\n",
    "probabilities = softmax(log_odds)\n",
    "print(probabilities)\n",
    "\n",
    "# 2)\n",
    "print(probabilities.argmax())"
   ]
  }
 ],
 "metadata": {
  "kernelspec": {
   "display_name": "Python 3",
   "language": "python",
   "name": "python3"
  },
  "language_info": {
   "codemirror_mode": {
    "name": "ipython",
    "version": 3
   },
   "file_extension": ".py",
   "mimetype": "text/x-python",
   "name": "python",
   "nbconvert_exporter": "python",
   "pygments_lexer": "ipython3",
   "version": "3.12.7"
  }
 },
 "nbformat": 4,
 "nbformat_minor": 2
}
