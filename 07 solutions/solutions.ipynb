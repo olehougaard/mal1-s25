{
 "cells": [
  {
   "cell_type": "code",
   "execution_count": 2,
   "metadata": {},
   "outputs": [],
   "source": [
    "import numpy as np"
   ]
  },
  {
   "cell_type": "markdown",
   "metadata": {},
   "source": [
    "## Exercise 7.2"
   ]
  },
  {
   "cell_type": "code",
   "execution_count": null,
   "metadata": {},
   "outputs": [
    {
     "name": "stdout",
     "output_type": "stream",
     "text": [
      "2)\n",
      "0.3333333333333333 0.5 0.6666666666666666\n",
      "[0.33333333 0.5        0.66666667]\n",
      "\n",
      "4)\n",
      "[-1.47927418 -3.47643156 -0.39486703]\n",
      "[0.24429532 0.03315589 0.72254879]\n",
      "1.0\n",
      "\n",
      "[ 0.98009065 -4.67437141  2.50209587]\n",
      "[1.79054088e-01 6.27021701e-04 8.20318890e-01]\n",
      "1.0\n",
      "\n",
      "[-4.20395609  1.07803173 -1.2249845 ]\n",
      "[0.00459922 0.90494526 0.09045552]\n",
      "1.0000000000000002\n",
      "\n",
      "[-1.3667947  -0.07496606 -2.61290716]\n",
      "[0.20296094 0.73866328 0.05837578]\n",
      "1.0\n",
      "\n",
      "[4.84029725 3.15114571 4.42161496]\n",
      "[0.54271453 0.10022643 0.35705904]\n",
      "1.0\n",
      "\n",
      "5)\n",
      "logistic =  0.7462550408469308\n",
      "softmax =  [0.25374496 0.74625504]\n",
      "\n",
      "logistic =  0.3558166838495712\n",
      "softmax =  [0.64418332 0.35581668]\n",
      "\n",
      "logistic =  0.9843836741792901\n",
      "softmax =  [0.01561633 0.98438367]\n",
      "\n",
      "logistic =  0.9089187110525762\n",
      "softmax =  [0.09108129 0.90891871]\n",
      "\n",
      "logistic =  0.20603175302592866\n",
      "softmax =  [0.79396825 0.20603175]\n",
      "\n"
     ]
    }
   ],
   "source": [
    "# 1)\n",
    "\n",
    "def logistic(t):\n",
    "  return 1/(1 + np.exp(-t))\n",
    "\n",
    "# 2)\n",
    "\n",
    "print(\"2)\")\n",
    "print(logistic(-np.log(2)), logistic(0), logistic(np.log(2)))\n",
    "# Alt: print(logistic(np.array([-np.log(2), 0, np.log(2)])))\n",
    "print()\n",
    "\n",
    "# 3)\n",
    "\n",
    "def softmax(v):\n",
    "  exps = np.exp(v)\n",
    "  sum = np.sum(exps)\n",
    "  return exps / sum\n",
    "\n",
    "# 4)\n",
    "\n",
    "print(\"4)\")\n",
    "for _ in range(5):\n",
    "  rand_array = np.random.rand(3) * 10 - 5 # Random array: 3 elements from -5 to 5\n",
    "  print(rand_array)\n",
    "  sm = softmax(rand_array)\n",
    "  print(sm)\n",
    "  print(np.sum(sm))\n",
    "  print()\n",
    "\n",
    "# 5)\n",
    "print(\"5)\")\n",
    "for _ in range(5):\n",
    "  rand_number = np.random.rand() * 10 - 5\n",
    "  print(\"logistic = \", logistic(rand_number))\n",
    "  print(\"softmax = \", softmax([0, rand_number]))\n",
    "  print()\n"
   ]
  },
  {
   "cell_type": "markdown",
   "metadata": {},
   "source": [
    "## Exercise 7.3"
   ]
  },
  {
   "cell_type": "code",
   "execution_count": 14,
   "metadata": {},
   "outputs": [
    {
     "name": "stdout",
     "output_type": "stream",
     "text": [
      "[2.29841921]\n",
      "[0.90874603]\n",
      "[ True]\n"
     ]
    }
   ],
   "source": [
    "coef = np.array([[-0.85433652,  2.74057947,  0.41217626]])\n",
    "\n",
    "log_odds = coef @ np.array([1, 1, 1])\n",
    "print(log_odds)\n",
    "\n",
    "# 1)\n",
    "probability = logistic(log_odds)\n",
    "print(probability)\n",
    "\n",
    "# 2)\n",
    "print(probability >= .5)"
   ]
  },
  {
   "cell_type": "markdown",
   "metadata": {},
   "source": [
    "## Exercise 7.4"
   ]
  },
  {
   "cell_type": "code",
   "execution_count": null,
   "metadata": {},
   "outputs": [
    {
     "name": "stdout",
     "output_type": "stream",
     "text": [
      "[ 0.53711902 -0.40302374 -0.13409528]\n",
      "[0.52585645 0.20538484 0.2687587 ]\n",
      "0\n"
     ]
    }
   ],
   "source": [
    "coef = np.array([[ 0.95978307, -0.36742618, -0.05523787],\n",
    "       [-1.04501035,  0.25190438,  0.39008223],\n",
    "       [ 0.08522728,  0.1155218,  -0.33484436]])\n",
    "\n",
    "log_odds = coef @ np.array([1, 1, 1])\n",
    "print(log_odds)\n",
    "\n",
    "# 1)\n",
    "probabilities = softmax(log_odds)\n",
    "print(probabilities)\n",
    "\n",
    "# 2)\n",
    "print(probabilities.argmax())"
   ]
  }
 ],
 "metadata": {
  "kernelspec": {
   "display_name": "Python 3",
   "language": "python",
   "name": "python3"
  },
  "language_info": {
   "codemirror_mode": {
    "name": "ipython",
    "version": 3
   },
   "file_extension": ".py",
   "mimetype": "text/x-python",
   "name": "python",
   "nbconvert_exporter": "python",
   "pygments_lexer": "ipython3",
   "version": "3.12.7"
  }
 },
 "nbformat": 4,
 "nbformat_minor": 2
}
