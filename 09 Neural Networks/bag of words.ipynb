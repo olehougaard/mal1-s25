{
 "cells": [
  {
   "cell_type": "markdown",
   "metadata": {},
   "source": [
    "# Bag-of-words example\n",
    "\n",
    "This notebook is a brief introduction to using bag of words. It is not meant as a guide to building a good Natural Language Processing network (it doesn't).\n",
    "\n",
    "The data used in this example is from Kaggle's Disaster Tweets: https://www.kaggle.com/competitions/nlp-getting-started/overview"
   ]
  },
  {
   "cell_type": "code",
   "execution_count": 1,
   "metadata": {},
   "outputs": [
    {
     "data": {
      "text/html": [
       "<div>\n",
       "<style scoped>\n",
       "    .dataframe tbody tr th:only-of-type {\n",
       "        vertical-align: middle;\n",
       "    }\n",
       "\n",
       "    .dataframe tbody tr th {\n",
       "        vertical-align: top;\n",
       "    }\n",
       "\n",
       "    .dataframe thead th {\n",
       "        text-align: right;\n",
       "    }\n",
       "</style>\n",
       "<table border=\"1\" class=\"dataframe\">\n",
       "  <thead>\n",
       "    <tr style=\"text-align: right;\">\n",
       "      <th></th>\n",
       "      <th>id</th>\n",
       "      <th>keyword</th>\n",
       "      <th>location</th>\n",
       "      <th>text</th>\n",
       "      <th>target</th>\n",
       "    </tr>\n",
       "  </thead>\n",
       "  <tbody>\n",
       "    <tr>\n",
       "      <th>0</th>\n",
       "      <td>1</td>\n",
       "      <td>NaN</td>\n",
       "      <td>NaN</td>\n",
       "      <td>Our Deeds are the Reason of this #earthquake M...</td>\n",
       "      <td>1</td>\n",
       "    </tr>\n",
       "    <tr>\n",
       "      <th>1</th>\n",
       "      <td>4</td>\n",
       "      <td>NaN</td>\n",
       "      <td>NaN</td>\n",
       "      <td>Forest fire near La Ronge Sask. Canada</td>\n",
       "      <td>1</td>\n",
       "    </tr>\n",
       "    <tr>\n",
       "      <th>2</th>\n",
       "      <td>5</td>\n",
       "      <td>NaN</td>\n",
       "      <td>NaN</td>\n",
       "      <td>All residents asked to 'shelter in place' are ...</td>\n",
       "      <td>1</td>\n",
       "    </tr>\n",
       "    <tr>\n",
       "      <th>3</th>\n",
       "      <td>6</td>\n",
       "      <td>NaN</td>\n",
       "      <td>NaN</td>\n",
       "      <td>13,000 people receive #wildfires evacuation or...</td>\n",
       "      <td>1</td>\n",
       "    </tr>\n",
       "    <tr>\n",
       "      <th>4</th>\n",
       "      <td>7</td>\n",
       "      <td>NaN</td>\n",
       "      <td>NaN</td>\n",
       "      <td>Just got sent this photo from Ruby #Alaska as ...</td>\n",
       "      <td>1</td>\n",
       "    </tr>\n",
       "    <tr>\n",
       "      <th>...</th>\n",
       "      <td>...</td>\n",
       "      <td>...</td>\n",
       "      <td>...</td>\n",
       "      <td>...</td>\n",
       "      <td>...</td>\n",
       "    </tr>\n",
       "    <tr>\n",
       "      <th>7608</th>\n",
       "      <td>10869</td>\n",
       "      <td>NaN</td>\n",
       "      <td>NaN</td>\n",
       "      <td>Two giant cranes holding a bridge collapse int...</td>\n",
       "      <td>1</td>\n",
       "    </tr>\n",
       "    <tr>\n",
       "      <th>7609</th>\n",
       "      <td>10870</td>\n",
       "      <td>NaN</td>\n",
       "      <td>NaN</td>\n",
       "      <td>@aria_ahrary @TheTawniest The out of control w...</td>\n",
       "      <td>1</td>\n",
       "    </tr>\n",
       "    <tr>\n",
       "      <th>7610</th>\n",
       "      <td>10871</td>\n",
       "      <td>NaN</td>\n",
       "      <td>NaN</td>\n",
       "      <td>M1.94 [01:04 UTC]?5km S of Volcano Hawaii. htt...</td>\n",
       "      <td>1</td>\n",
       "    </tr>\n",
       "    <tr>\n",
       "      <th>7611</th>\n",
       "      <td>10872</td>\n",
       "      <td>NaN</td>\n",
       "      <td>NaN</td>\n",
       "      <td>Police investigating after an e-bike collided ...</td>\n",
       "      <td>1</td>\n",
       "    </tr>\n",
       "    <tr>\n",
       "      <th>7612</th>\n",
       "      <td>10873</td>\n",
       "      <td>NaN</td>\n",
       "      <td>NaN</td>\n",
       "      <td>The Latest: More Homes Razed by Northern Calif...</td>\n",
       "      <td>1</td>\n",
       "    </tr>\n",
       "  </tbody>\n",
       "</table>\n",
       "<p>7613 rows × 5 columns</p>\n",
       "</div>"
      ],
      "text/plain": [
       "         id keyword location  \\\n",
       "0         1     NaN      NaN   \n",
       "1         4     NaN      NaN   \n",
       "2         5     NaN      NaN   \n",
       "3         6     NaN      NaN   \n",
       "4         7     NaN      NaN   \n",
       "...     ...     ...      ...   \n",
       "7608  10869     NaN      NaN   \n",
       "7609  10870     NaN      NaN   \n",
       "7610  10871     NaN      NaN   \n",
       "7611  10872     NaN      NaN   \n",
       "7612  10873     NaN      NaN   \n",
       "\n",
       "                                                   text  target  \n",
       "0     Our Deeds are the Reason of this #earthquake M...       1  \n",
       "1                Forest fire near La Ronge Sask. Canada       1  \n",
       "2     All residents asked to 'shelter in place' are ...       1  \n",
       "3     13,000 people receive #wildfires evacuation or...       1  \n",
       "4     Just got sent this photo from Ruby #Alaska as ...       1  \n",
       "...                                                 ...     ...  \n",
       "7608  Two giant cranes holding a bridge collapse int...       1  \n",
       "7609  @aria_ahrary @TheTawniest The out of control w...       1  \n",
       "7610  M1.94 [01:04 UTC]?5km S of Volcano Hawaii. htt...       1  \n",
       "7611  Police investigating after an e-bike collided ...       1  \n",
       "7612  The Latest: More Homes Razed by Northern Calif...       1  \n",
       "\n",
       "[7613 rows x 5 columns]"
      ]
     },
     "execution_count": 1,
     "metadata": {},
     "output_type": "execute_result"
    }
   ],
   "source": [
    "import pandas as pd\n",
    "import numpy as np\n",
    "import matplotlib.pyplot as plt\n",
    "\n",
    "tweets = pd.read_csv('train.csv')\n",
    "\n",
    "tweets"
   ]
  },
  {
   "cell_type": "markdown",
   "metadata": {},
   "source": [
    "The target is 1, if the tweet is about a disaster, and 0 otherwise. We'll try to \n",
    "\n",
    "Since this is about NLP, I'll just use the text even though the keyword looks useful.\n",
    "\n",
    "The CountVectorizer finds all distinct words in the body of text (that is, all the rows). It returns a vector for each input text. The vector has a word count for how many times the word occured in the input text.\n",
    "\n",
    "Note the conversions to numpy arrays. Keras is none to happy with Pandas Dataframes.\n",
    "\n",
    "The shape of _X_ reveals that we have 7613 vectors (texts) and 21637 distinct words."
   ]
  },
  {
   "cell_type": "code",
   "execution_count": 2,
   "metadata": {},
   "outputs": [
    {
     "data": {
      "text/plain": [
       "(7613, 21637)"
      ]
     },
     "execution_count": 2,
     "metadata": {},
     "output_type": "execute_result"
    }
   ],
   "source": [
    "from sklearn.feature_extraction.text import CountVectorizer\n",
    "\n",
    "vectorizer = CountVectorizer()\n",
    "\n",
    "y = np.array(tweets['target'])\n",
    "X = vectorizer.fit_transform(tweets['text']).toarray()\n",
    "X.shape"
   ]
  },
  {
   "cell_type": "code",
   "execution_count": 3,
   "metadata": {},
   "outputs": [],
   "source": [
    "from sklearn.model_selection import train_test_split\n",
    "\n",
    "X_, X_test, y_, y_test = train_test_split(X, y, train_size=.8, random_state=504)\n",
    "X_train, X_validate, y_train, y_validate = train_test_split(X_, y_, train_size=.75, random_state=504)"
   ]
  },
  {
   "cell_type": "markdown",
   "metadata": {},
   "source": [
    "The ANN below is horribly overfitting (never a good sign when validation loss is increasing), but I'll leave it here. \n",
    "\n",
    "Note how the input dimension is related to the shape of the input.\n",
    "\n",
    "Also note that this had two hidden layers, where the portfolio exercise requires one."
   ]
  },
  {
   "cell_type": "code",
   "execution_count": 4,
   "metadata": {},
   "outputs": [],
   "source": [
    "import tensorflow as tf\n",
    "from tensorflow.keras import layers\n",
    "\n",
    "ann = tf.keras.Sequential([\n",
    "    layers.Dense(units=100, input_dim=X.shape[1], activation='relu'),\n",
    "    layers.Dense(units=100, activation='relu'),\n",
    "    layers.Dense(units=1, activation='sigmoid')\n",
    "])\n",
    "\n",
    "ann.compile(loss='binary_crossentropy', optimizer=tf.keras.optimizers.Adam(learning_rate=0.01), metrics=['accuracy']) "
   ]
  },
  {
   "cell_type": "code",
   "execution_count": 5,
   "metadata": {},
   "outputs": [
    {
     "name": "stdout",
     "output_type": "stream",
     "text": [
      "Epoch 1/100\n",
      "143/143 [==============================] - 6s 34ms/step - loss: 0.5108 - accuracy: 0.7683 - val_loss: 0.4565 - val_accuracy: 0.7905\n",
      "Epoch 2/100\n",
      "143/143 [==============================] - 4s 27ms/step - loss: 0.1732 - accuracy: 0.9326 - val_loss: 0.5998 - val_accuracy: 0.7610\n",
      "Epoch 3/100\n",
      "143/143 [==============================] - 4s 27ms/step - loss: 0.0710 - accuracy: 0.9733 - val_loss: 0.8716 - val_accuracy: 0.7538\n",
      "Epoch 4/100\n",
      "143/143 [==============================] - 4s 27ms/step - loss: 0.0462 - accuracy: 0.9818 - val_loss: 0.8166 - val_accuracy: 0.7676\n",
      "Epoch 5/100\n",
      "143/143 [==============================] - 4s 28ms/step - loss: 0.0359 - accuracy: 0.9866 - val_loss: 1.2120 - val_accuracy: 0.7708\n",
      "Epoch 6/100\n",
      "143/143 [==============================] - 4s 27ms/step - loss: 0.0246 - accuracy: 0.9895 - val_loss: 1.1023 - val_accuracy: 0.7676\n",
      "Epoch 7/100\n",
      "143/143 [==============================] - 4s 30ms/step - loss: 0.0211 - accuracy: 0.9906 - val_loss: 1.3477 - val_accuracy: 0.7735\n",
      "Epoch 8/100\n",
      "143/143 [==============================] - 4s 29ms/step - loss: 0.0168 - accuracy: 0.9917 - val_loss: 1.2715 - val_accuracy: 0.7728\n",
      "Epoch 9/100\n",
      "143/143 [==============================] - 4s 30ms/step - loss: 0.0180 - accuracy: 0.9932 - val_loss: 1.1853 - val_accuracy: 0.7649\n",
      "Epoch 10/100\n",
      "143/143 [==============================] - 4s 27ms/step - loss: 0.0131 - accuracy: 0.9934 - val_loss: 1.3241 - val_accuracy: 0.7708\n",
      "Epoch 11/100\n",
      "143/143 [==============================] - 4s 30ms/step - loss: 0.0189 - accuracy: 0.9943 - val_loss: 1.5346 - val_accuracy: 0.7695\n",
      "Epoch 12/100\n",
      "143/143 [==============================] - 4s 27ms/step - loss: 0.0139 - accuracy: 0.9941 - val_loss: 1.1091 - val_accuracy: 0.7590\n",
      "Epoch 13/100\n",
      "143/143 [==============================] - 4s 27ms/step - loss: 0.0106 - accuracy: 0.9947 - val_loss: 1.3119 - val_accuracy: 0.7682\n",
      "Epoch 14/100\n",
      "143/143 [==============================] - 4s 27ms/step - loss: 0.0087 - accuracy: 0.9956 - val_loss: 1.5254 - val_accuracy: 0.7715\n",
      "Epoch 15/100\n",
      "143/143 [==============================] - 4s 27ms/step - loss: 0.0101 - accuracy: 0.9958 - val_loss: 1.6632 - val_accuracy: 0.7754\n",
      "Epoch 16/100\n",
      "143/143 [==============================] - 4s 28ms/step - loss: 0.0073 - accuracy: 0.9961 - val_loss: 1.4457 - val_accuracy: 0.7676\n",
      "Epoch 17/100\n",
      "143/143 [==============================] - 4s 27ms/step - loss: 0.0064 - accuracy: 0.9972 - val_loss: 1.7015 - val_accuracy: 0.7787\n",
      "Epoch 18/100\n",
      "143/143 [==============================] - 4s 28ms/step - loss: 0.0065 - accuracy: 0.9967 - val_loss: 1.5418 - val_accuracy: 0.7636\n",
      "Epoch 19/100\n",
      "143/143 [==============================] - 4s 28ms/step - loss: 0.0056 - accuracy: 0.9972 - val_loss: 1.7704 - val_accuracy: 0.7748\n",
      "Epoch 20/100\n",
      "143/143 [==============================] - 4s 27ms/step - loss: 0.0050 - accuracy: 0.9974 - val_loss: 1.8957 - val_accuracy: 0.7761\n",
      "Epoch 21/100\n",
      "143/143 [==============================] - 4s 27ms/step - loss: 0.0050 - accuracy: 0.9972 - val_loss: 1.9267 - val_accuracy: 0.7715\n"
     ]
    }
   ],
   "source": [
    "es = tf.keras.callbacks.EarlyStopping(patience=20, restore_best_weights=True)\n",
    "\n",
    "history = ann.fit(X_train, y_train, epochs = 100, validation_data=(X_validate, y_validate), callbacks=[es])\n"
   ]
  },
  {
   "cell_type": "code",
   "execution_count": 6,
   "metadata": {},
   "outputs": [
    {
     "data": {
      "image/png": "[encoded data removed]",
      "text/plain": [
       "<Figure size 640x480 with 1 Axes>"
      ]
     },
     "metadata": {},
     "output_type": "display_data"
    }
   ],
   "source": [
    "plt.figure()\n",
    "plt.title(\"Learning curves\")\n",
    "plt.xlabel(\"Epoch\")\n",
    "plt.ylabel(\"Cross entropy loss\")\n",
    "plt.plot(history.history['loss'], label = 'train')\n",
    "plt.plot(history.history['val_loss'], label = 'valid')\n",
    "plt.legend()\n",
    "plt.show()"
   ]
  }
 ],
 "metadata": {
  "kernelspec": {
   "display_name": "Python 3",
   "language": "python",
   "name": "python3"
  },
  "language_info": {
   "codemirror_mode": {
    "name": "ipython",
    "version": 3
   },
   "file_extension": ".py",
   "mimetype": "text/x-python",
   "name": "python",
   "nbconvert_exporter": "python",
   "pygments_lexer": "ipython3",
   "version": "3.11.5"
  },
  "orig_nbformat": 4
 },
 "nbformat": 4,
 "nbformat_minor": 2
}
