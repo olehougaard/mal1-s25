{
 "cells": [
  {
   "cell_type": "code",
   "execution_count": 6,
   "id": "b26dae0f",
   "metadata": {},
   "outputs": [],
   "source": [
    "import tensorflow as tf\n",
    "from tensorflow.keras import layers\n",
    "\n",
    "from sklearn.datasets import load_digits\n",
    "from sklearn.model_selection import train_test_split\n",
    "\n",
    "import matplotlib.pyplot as plt\n",
    "\n",
    "\n",
    "import numpy as np\n",
    "from numpy.random import seed, randint"
   ]
  },
  {
   "cell_type": "code",
   "execution_count": 7,
   "id": "83d6f4f9",
   "metadata": {},
   "outputs": [],
   "source": [
    "seed(504)\n",
    "tf.random.set_seed(504)"
   ]
  },
  {
   "cell_type": "markdown",
   "id": "87ac7ab7",
   "metadata": {},
   "source": [
    "# Getting the data"
   ]
  },
  {
   "cell_type": "code",
   "execution_count": 8,
   "id": "39c71894",
   "metadata": {},
   "outputs": [
    {
     "name": "stdout",
     "output_type": "stream",
     "text": [
      "This digit is 0\n"
     ]
    },
    {
     "data": {
      "image/png": "[encoded data removed]",
      "text/plain": [
       "<Figure size 640x480 with 1 Axes>"
      ]
     },
     "metadata": {},
     "output_type": "display_data"
    }
   ],
   "source": [
    "digits = load_digits()\n",
    "\n",
    "a = randint(low = 0, high = len(digits.data) - 1)\n",
    "plt.imshow(digits.images[a], cmap='Greys')\n",
    "print(\"This digit is {}\".format(digits.target[a]))"
   ]
  },
  {
   "cell_type": "markdown",
   "id": "d46a239d",
   "metadata": {},
   "source": [
    "# Training the neural network"
   ]
  },
  {
   "cell_type": "code",
   "execution_count": 9,
   "id": "637eaea9",
   "metadata": {},
   "outputs": [
    {
     "data": {
      "text/plain": [
       "(1797, 64)"
      ]
     },
     "execution_count": 9,
     "metadata": {},
     "output_type": "execute_result"
    }
   ],
   "source": [
    "num_classes = 10\n",
    "X = digits.data\n",
    "y = digits.target\n",
    "Y = tf.keras.utils.to_categorical(y, num_classes)\n",
    "X_train, X_test, Y_train, Y_test = train_test_split(X, Y, stratify = Y)\n",
    "input_size = X.shape[1]\n",
    "X.shape"
   ]
  },
  {
   "cell_type": "code",
   "execution_count": 10,
   "id": "e794eed9",
   "metadata": {},
   "outputs": [
    {
     "name": "stdout",
     "output_type": "stream",
     "text": [
      "Model: \"sequential\"\n",
      "_________________________________________________________________\n",
      " Layer (type)                Output Shape              Param #   \n",
      "=================================================================\n",
      " dense (Dense)               (None, 16)                1040      \n",
      "                                                                 \n",
      " dropout (Dropout)           (None, 16)                0         \n",
      "                                                                 \n",
      " dense_1 (Dense)             (None, 10)                170       \n",
      "                                                                 \n",
      "=================================================================\n",
      "Total params: 1210 (4.73 KB)\n",
      "Trainable params: 1210 (4.73 KB)\n",
      "Non-trainable params: 0 (0.00 Byte)\n",
      "_________________________________________________________________\n"
     ]
    }
   ],
   "source": [
    "callback = tf.keras.callbacks.EarlyStopping(monitor = 'val_accuracy', patience = 10)\n",
    "\n",
    "model = tf.keras.models.Sequential([\n",
    "    layers.Dense(units = 16, activation = 'tanh', input_dim = input_size, kernel_regularizer=tf.keras.regularizers.l2(0.001)),\n",
    "    layers.Dropout(0.2),\n",
    "    layers.Dense(units = num_classes, activation = 'softmax')\n",
    "])\n",
    "model.summary()"
   ]
  },
  {
   "cell_type": "code",
   "execution_count": 11,
   "id": "51e8613e",
   "metadata": {},
   "outputs": [
    {
     "name": "stdout",
     "output_type": "stream",
     "text": [
      "Epoch 1/100\n",
      "34/34 [==============================] - 2s 16ms/step - loss: 2.0693 - accuracy: 0.2832 - val_loss: 1.5083 - val_accuracy: 0.5630\n",
      "Epoch 2/100\n",
      "34/34 [==============================] - 0s 5ms/step - loss: 1.2897 - accuracy: 0.6249 - val_loss: 1.0218 - val_accuracy: 0.7556\n",
      "Epoch 3/100\n",
      "34/34 [==============================] - 0s 4ms/step - loss: 0.9158 - accuracy: 0.7846 - val_loss: 0.7067 - val_accuracy: 0.8370\n",
      "Epoch 4/100\n",
      "34/34 [==============================] - 0s 6ms/step - loss: 0.6803 - accuracy: 0.8338 - val_loss: 0.5483 - val_accuracy: 0.8889\n",
      "Epoch 5/100\n",
      "34/34 [==============================] - 0s 5ms/step - loss: 0.5708 - accuracy: 0.8691 - val_loss: 0.4648 - val_accuracy: 0.9185\n",
      "Epoch 6/100\n",
      "34/34 [==============================] - 0s 5ms/step - loss: 0.4839 - accuracy: 0.8951 - val_loss: 0.4108 - val_accuracy: 0.9185\n",
      "Epoch 7/100\n",
      "34/34 [==============================] - 0s 4ms/step - loss: 0.4277 - accuracy: 0.8969 - val_loss: 0.3567 - val_accuracy: 0.9259\n",
      "Epoch 8/100\n",
      "34/34 [==============================] - 0s 4ms/step - loss: 0.3839 - accuracy: 0.9090 - val_loss: 0.3226 - val_accuracy: 0.9296\n",
      "Epoch 9/100\n",
      "34/34 [==============================] - 0s 3ms/step - loss: 0.3602 - accuracy: 0.9081 - val_loss: 0.2744 - val_accuracy: 0.9370\n",
      "Epoch 10/100\n",
      "34/34 [==============================] - 0s 3ms/step - loss: 0.3279 - accuracy: 0.9201 - val_loss: 0.2831 - val_accuracy: 0.9370\n",
      "Epoch 11/100\n",
      "34/34 [==============================] - 0s 3ms/step - loss: 0.3280 - accuracy: 0.9109 - val_loss: 0.2578 - val_accuracy: 0.9222\n",
      "Epoch 12/100\n",
      "34/34 [==============================] - 0s 4ms/step - loss: 0.2785 - accuracy: 0.9229 - val_loss: 0.2367 - val_accuracy: 0.9407\n",
      "Epoch 13/100\n",
      "34/34 [==============================] - 0s 4ms/step - loss: 0.2772 - accuracy: 0.9266 - val_loss: 0.2791 - val_accuracy: 0.9259\n",
      "Epoch 14/100\n",
      "34/34 [==============================] - 0s 4ms/step - loss: 0.2556 - accuracy: 0.9424 - val_loss: 0.2095 - val_accuracy: 0.9444\n",
      "Epoch 15/100\n",
      "34/34 [==============================] - 0s 4ms/step - loss: 0.2508 - accuracy: 0.9341 - val_loss: 0.2073 - val_accuracy: 0.9556\n",
      "Epoch 16/100\n",
      "34/34 [==============================] - 0s 4ms/step - loss: 0.2346 - accuracy: 0.9424 - val_loss: 0.2009 - val_accuracy: 0.9407\n",
      "Epoch 17/100\n",
      "34/34 [==============================] - 0s 3ms/step - loss: 0.2345 - accuracy: 0.9369 - val_loss: 0.1760 - val_accuracy: 0.9519\n",
      "Epoch 18/100\n",
      "34/34 [==============================] - 0s 4ms/step - loss: 0.2414 - accuracy: 0.9359 - val_loss: 0.1726 - val_accuracy: 0.9556\n",
      "Epoch 19/100\n",
      "34/34 [==============================] - 0s 4ms/step - loss: 0.2297 - accuracy: 0.9387 - val_loss: 0.1899 - val_accuracy: 0.9444\n",
      "Epoch 20/100\n",
      "34/34 [==============================] - 0s 4ms/step - loss: 0.2113 - accuracy: 0.9424 - val_loss: 0.2000 - val_accuracy: 0.9481\n",
      "Epoch 21/100\n",
      "34/34 [==============================] - 0s 4ms/step - loss: 0.2050 - accuracy: 0.9573 - val_loss: 0.1812 - val_accuracy: 0.9593\n",
      "Epoch 22/100\n",
      "34/34 [==============================] - 0s 4ms/step - loss: 0.1823 - accuracy: 0.9554 - val_loss: 0.1821 - val_accuracy: 0.9407\n",
      "Epoch 23/100\n",
      "34/34 [==============================] - 0s 5ms/step - loss: 0.1763 - accuracy: 0.9591 - val_loss: 0.1771 - val_accuracy: 0.9481\n",
      "Epoch 24/100\n",
      "34/34 [==============================] - 0s 3ms/step - loss: 0.1819 - accuracy: 0.9573 - val_loss: 0.1570 - val_accuracy: 0.9556\n",
      "Epoch 25/100\n",
      "34/34 [==============================] - 0s 3ms/step - loss: 0.1722 - accuracy: 0.9573 - val_loss: 0.1912 - val_accuracy: 0.9444\n",
      "Epoch 26/100\n",
      "34/34 [==============================] - 0s 4ms/step - loss: 0.1648 - accuracy: 0.9638 - val_loss: 0.1537 - val_accuracy: 0.9630\n",
      "Epoch 27/100\n",
      "34/34 [==============================] - 0s 4ms/step - loss: 0.1483 - accuracy: 0.9684 - val_loss: 0.1440 - val_accuracy: 0.9704\n",
      "Epoch 28/100\n",
      "34/34 [==============================] - 0s 4ms/step - loss: 0.1512 - accuracy: 0.9684 - val_loss: 0.1561 - val_accuracy: 0.9593\n",
      "Epoch 29/100\n",
      "34/34 [==============================] - 0s 4ms/step - loss: 0.1432 - accuracy: 0.9712 - val_loss: 0.1658 - val_accuracy: 0.9556\n",
      "Epoch 30/100\n",
      "34/34 [==============================] - 0s 4ms/step - loss: 0.1634 - accuracy: 0.9610 - val_loss: 0.1478 - val_accuracy: 0.9593\n",
      "Epoch 31/100\n",
      "34/34 [==============================] - 0s 4ms/step - loss: 0.1624 - accuracy: 0.9601 - val_loss: 0.1676 - val_accuracy: 0.9630\n",
      "Epoch 32/100\n",
      "34/34 [==============================] - 0s 4ms/step - loss: 0.1494 - accuracy: 0.9629 - val_loss: 0.1382 - val_accuracy: 0.9778\n",
      "Epoch 33/100\n",
      "34/34 [==============================] - 0s 4ms/step - loss: 0.1728 - accuracy: 0.9508 - val_loss: 0.1827 - val_accuracy: 0.9407\n",
      "Epoch 34/100\n",
      "34/34 [==============================] - 0s 4ms/step - loss: 0.1923 - accuracy: 0.9434 - val_loss: 0.1425 - val_accuracy: 0.9704\n",
      "Epoch 35/100\n",
      "34/34 [==============================] - 0s 3ms/step - loss: 0.1593 - accuracy: 0.9508 - val_loss: 0.1736 - val_accuracy: 0.9556\n",
      "Epoch 36/100\n",
      "34/34 [==============================] - 0s 3ms/step - loss: 0.1409 - accuracy: 0.9675 - val_loss: 0.1382 - val_accuracy: 0.9741\n",
      "Epoch 37/100\n",
      "34/34 [==============================] - 0s 4ms/step - loss: 0.1484 - accuracy: 0.9656 - val_loss: 0.1905 - val_accuracy: 0.9481\n",
      "Epoch 38/100\n",
      "34/34 [==============================] - 0s 6ms/step - loss: 0.1552 - accuracy: 0.9601 - val_loss: 0.1253 - val_accuracy: 0.9630\n",
      "Epoch 39/100\n",
      "34/34 [==============================] - 0s 4ms/step - loss: 0.1324 - accuracy: 0.9759 - val_loss: 0.1282 - val_accuracy: 0.9630\n",
      "Epoch 40/100\n",
      "34/34 [==============================] - 0s 4ms/step - loss: 0.1195 - accuracy: 0.9694 - val_loss: 0.1199 - val_accuracy: 0.9704\n",
      "Epoch 41/100\n",
      "34/34 [==============================] - 0s 4ms/step - loss: 0.1173 - accuracy: 0.9777 - val_loss: 0.1252 - val_accuracy: 0.9704\n",
      "Epoch 42/100\n",
      "34/34 [==============================] - 0s 4ms/step - loss: 0.1430 - accuracy: 0.9610 - val_loss: 0.1597 - val_accuracy: 0.9519\n"
     ]
    }
   ],
   "source": [
    "\n",
    "model.compile(loss = 'categorical_crossentropy', optimizer = tf.keras.optimizers.Adam(learning_rate = 0.005), metrics = ['accuracy'])\n",
    "\n",
    "history = model.fit(X_train, Y_train, \n",
    "                    epochs = 100, \n",
    "                    validation_split = 0.2, \n",
    "                    callbacks = [callback])"
   ]
  },
  {
   "cell_type": "code",
   "execution_count": 12,
   "id": "823bffdc",
   "metadata": {},
   "outputs": [
    {
     "data": {
      "image/png": "[encoded data removed]",
      "text/plain": [
       "<Figure size 640x480 with 1 Axes>"
      ]
     },
     "metadata": {},
     "output_type": "display_data"
    }
   ],
   "source": [
    "plt.figure()\n",
    "plt.title(\"Learning curves\")\n",
    "plt.xlabel(\"Epoch\")\n",
    "plt.ylabel(\"Cross entropy loss\")\n",
    "plt.plot(history.history['loss'], label = 'train')\n",
    "plt.plot(history.history['val_loss'], label = 'valid')\n",
    "plt.legend()\n",
    "plt.show()"
   ]
  },
  {
   "cell_type": "code",
   "execution_count": 13,
   "id": "8bf937d0",
   "metadata": {},
   "outputs": [
    {
     "name": "stdout",
     "output_type": "stream",
     "text": [
      "43/43 [==============================] - 0s 2ms/step - loss: 0.1012 - accuracy: 0.9755\n",
      "Loss + accuracy on train data: [0.1012309193611145, 0.9755011200904846]\n",
      "15/15 [==============================] - 0s 2ms/step - loss: 0.2074 - accuracy: 0.9556\n",
      "Loss + accuracy on test data: [0.2074202448129654, 0.9555555582046509]\n"
     ]
    }
   ],
   "source": [
    "print(\"Loss + accuracy on train data: {}\".format(model.evaluate(X_train, Y_train)))\n",
    "print(\"Loss + accuracy on test data: {}\".format(model.evaluate(X_test, Y_test)))"
   ]
  },
  {
   "cell_type": "markdown",
   "id": "3fc6fc96",
   "metadata": {},
   "source": [
    "# Consider misclassified digits"
   ]
  },
  {
   "cell_type": "code",
   "execution_count": 14,
   "id": "3ca110a9",
   "metadata": {},
   "outputs": [
    {
     "name": "stdout",
     "output_type": "stream",
     "text": [
      "15/15 [==============================] - 0s 1ms/step\n",
      "Predictions = [0 1 6 1 1 0 4 1 7 8 9 5 9 2 6 9 3 6 9 3 9 8 4 7 7 5 3 8 2 6]\n",
      "Labels      = [0 1 6 8 1 0 4 1 7 8 9 5 9 2 6 9 3 6 9 3 9 8 4 7 7 5 3 8 2 6]\n"
     ]
    }
   ],
   "source": [
    "probabilities = np.array(model.predict(X_test))\n",
    "predictions = np.argmax(probabilities, axis = 1) #what does the model predict\n",
    "labels = np.argmax(Y_test, axis = 1) #what are the actual labels\n",
    "\n",
    "print(\"Predictions = {}\".format(predictions[0:30]))\n",
    "print(\"Labels      = {}\".format(labels[0:30]))"
   ]
  },
  {
   "cell_type": "code",
   "execution_count": 15,
   "id": "0b427657",
   "metadata": {},
   "outputs": [
    {
     "name": "stdout",
     "output_type": "stream",
     "text": [
      "This digit is 8, but classified as 1.\n"
     ]
    },
    {
     "data": {
      "image/png": "[encoded data removed]",
      "text/plain": [
       "<Figure size 640x480 with 1 Axes>"
      ]
     },
     "metadata": {},
     "output_type": "display_data"
    }
   ],
   "source": [
    "misclas_idxs = np.argwhere(predictions != labels)\n",
    "\n",
    "b = randint(low = 0, high = len(misclas_idxs) - 1) #choose a random index\n",
    "a = misclas_idxs[b][0] # find out what image that index is\n",
    "plt.imshow(np.reshape(X_test[a], (8,8)), cmap='Greys')\n",
    "print(\"This digit is {}, but classified as {}.\".format(labels[a], predictions[a]))"
   ]
  },
  {
   "cell_type": "code",
   "execution_count": null,
   "id": "e8c2ffe6",
   "metadata": {},
   "outputs": [],
   "source": []
  }
 ],
 "metadata": {
  "kernelspec": {
   "display_name": "Python 3",
   "language": "python",
   "name": "python3"
  },
  "language_info": {
   "codemirror_mode": {
    "name": "ipython",
    "version": 3
   },
   "file_extension": ".py",
   "mimetype": "text/x-python",
   "name": "python",
   "nbconvert_exporter": "python",
   "pygments_lexer": "ipython3",
   "version": "3.11.5"
  }
 },
 "nbformat": 4,
 "nbformat_minor": 5
}
