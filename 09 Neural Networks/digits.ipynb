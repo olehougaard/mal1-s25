{
 "cells": [
  {
   "cell_type": "code",
   "execution_count": 37,
   "id": "b26dae0f",
   "metadata": {},
   "outputs": [],
   "source": [
    "import tensorflow as tf\n",
    "from tensorflow.keras import layers\n",
    "\n",
    "from sklearn.datasets import load_digits\n",
    "from sklearn.model_selection import train_test_split\n",
    "\n",
    "import matplotlib.pyplot as plt\n",
    "\n",
    "\n",
    "import numpy as np\n",
    "from numpy.random import seed, randint"
   ]
  },
  {
   "cell_type": "code",
   "execution_count": 38,
   "id": "83d6f4f9",
   "metadata": {},
   "outputs": [],
   "source": [
    "seed(504)\n",
    "tf.random.set_seed(504)"
   ]
  },
  {
   "cell_type": "markdown",
   "id": "87ac7ab7",
   "metadata": {},
   "source": [
    "# Getting the data"
   ]
  },
  {
   "cell_type": "code",
   "execution_count": 39,
   "id": "39c71894",
   "metadata": {},
   "outputs": [
    {
     "name": "stdout",
     "output_type": "stream",
     "text": [
      "This digit is 0\n"
     ]
    },
    {
     "data": {
      "image/png": "[encoded data removed]",
      "text/plain": [
       "<Figure size 640x480 with 1 Axes>"
      ]
     },
     "metadata": {},
     "output_type": "display_data"
    }
   ],
   "source": [
    "digits = load_digits()\n",
    "\n",
    "a = randint(low = 0, high = len(digits.data) - 1)\n",
    "plt.imshow(digits.images[a], cmap='Greys')\n",
    "print(\"This digit is {}\".format(digits.target[a]))"
   ]
  },
  {
   "cell_type": "markdown",
   "id": "d46a239d",
   "metadata": {},
   "source": [
    "# Training the neural network"
   ]
  },
  {
   "cell_type": "code",
   "execution_count": 41,
   "id": "637eaea9",
   "metadata": {},
   "outputs": [
    {
     "data": {
      "text/plain": [
       "(1797, 64)"
      ]
     },
     "execution_count": 41,
     "metadata": {},
     "output_type": "execute_result"
    }
   ],
   "source": [
    "num_classes = 10\n",
    "X = digits.data\n",
    "y = digits.target\n",
    "Y = tf.keras.utils.to_categorical(y, num_classes)\n",
    "X_train, X_test, Y_train, Y_test = train_test_split(X, Y, stratify = Y)\n",
    "input_size = X.shape[1]\n",
    "X.shape"
   ]
  },
  {
   "cell_type": "code",
   "execution_count": 42,
   "id": "e794eed9",
   "metadata": {},
   "outputs": [
    {
     "name": "stdout",
     "output_type": "stream",
     "text": [
      "Model: \"sequential_6\"\n",
      "_________________________________________________________________\n",
      " Layer (type)                Output Shape              Param #   \n",
      "=================================================================\n",
      " dense_12 (Dense)            (None, 16)                1040      \n",
      "                                                                 \n",
      " dropout_5 (Dropout)         (None, 16)                0         \n",
      "                                                                 \n",
      " dense_13 (Dense)            (None, 10)                170       \n",
      "                                                                 \n",
      "=================================================================\n",
      "Total params: 1210 (4.73 KB)\n",
      "Trainable params: 1210 (4.73 KB)\n",
      "Non-trainable params: 0 (0.00 Byte)\n",
      "_________________________________________________________________\n"
     ]
    }
   ],
   "source": [
    "callback = tf.keras.callbacks.EarlyStopping(monitor = 'val_accuracy', patience = 10)\n",
    "tf.keras.callbacks.LearningRateScheduler()\n",
    "model = tf.keras.models.Sequential([\n",
    "    layers.Dense(units = 16, activation = 'tanh', input_dim = input_size, kernel_regularizer=tf.keras.regularizers.l2(0.001)),\n",
    "    layers.Dropout(0.2),\n",
    "    layers.Dense(units = num_classes, activation = 'softmax')\n",
    "])\n",
    "model.summary()"
   ]
  },
  {
   "cell_type": "code",
   "execution_count": 43,
   "id": "51e8613e",
   "metadata": {},
   "outputs": [
    {
     "name": "stdout",
     "output_type": "stream",
     "text": [
      "Epoch 1/100\n",
      "34/34 [==============================] - 1s 5ms/step - loss: 2.2731 - accuracy: 0.2061 - val_loss: 1.8021 - val_accuracy: 0.4481\n",
      "Epoch 2/100\n",
      "34/34 [==============================] - 0s 2ms/step - loss: 1.7148 - accuracy: 0.4355 - val_loss: 1.5150 - val_accuracy: 0.5519\n",
      "Epoch 3/100\n",
      "34/34 [==============================] - 0s 2ms/step - loss: 1.4422 - accuracy: 0.5348 - val_loss: 1.2334 - val_accuracy: 0.6704\n",
      "Epoch 4/100\n",
      "34/34 [==============================] - 0s 2ms/step - loss: 1.1661 - accuracy: 0.6444 - val_loss: 0.9998 - val_accuracy: 0.7185\n",
      "Epoch 5/100\n",
      "34/34 [==============================] - 0s 2ms/step - loss: 0.9746 - accuracy: 0.7112 - val_loss: 0.7971 - val_accuracy: 0.8370\n",
      "Epoch 6/100\n",
      "34/34 [==============================] - 0s 2ms/step - loss: 0.7880 - accuracy: 0.7976 - val_loss: 0.6525 - val_accuracy: 0.8926\n",
      "Epoch 7/100\n",
      "34/34 [==============================] - 0s 2ms/step - loss: 0.6795 - accuracy: 0.8273 - val_loss: 0.5653 - val_accuracy: 0.8963\n",
      "Epoch 8/100\n",
      "34/34 [==============================] - 0s 2ms/step - loss: 0.5817 - accuracy: 0.8589 - val_loss: 0.5108 - val_accuracy: 0.8926\n",
      "Epoch 9/100\n",
      "34/34 [==============================] - 0s 2ms/step - loss: 0.5451 - accuracy: 0.8598 - val_loss: 0.4726 - val_accuracy: 0.8963\n",
      "Epoch 10/100\n",
      "34/34 [==============================] - 0s 2ms/step - loss: 0.5101 - accuracy: 0.8607 - val_loss: 0.4179 - val_accuracy: 0.9296\n",
      "Epoch 11/100\n",
      "34/34 [==============================] - 0s 2ms/step - loss: 0.4391 - accuracy: 0.8895 - val_loss: 0.3826 - val_accuracy: 0.9185\n",
      "Epoch 12/100\n",
      "34/34 [==============================] - 0s 2ms/step - loss: 0.3925 - accuracy: 0.8914 - val_loss: 0.3367 - val_accuracy: 0.9259\n",
      "Epoch 13/100\n",
      "34/34 [==============================] - 0s 2ms/step - loss: 0.3778 - accuracy: 0.9127 - val_loss: 0.3504 - val_accuracy: 0.9074\n",
      "Epoch 14/100\n",
      "34/34 [==============================] - 0s 2ms/step - loss: 0.3559 - accuracy: 0.9053 - val_loss: 0.3029 - val_accuracy: 0.9222\n",
      "Epoch 15/100\n",
      "34/34 [==============================] - 0s 2ms/step - loss: 0.3259 - accuracy: 0.9183 - val_loss: 0.3876 - val_accuracy: 0.9000\n",
      "Epoch 16/100\n",
      "34/34 [==============================] - 0s 2ms/step - loss: 0.2988 - accuracy: 0.9211 - val_loss: 0.2917 - val_accuracy: 0.9296\n",
      "Epoch 17/100\n",
      "34/34 [==============================] - 0s 2ms/step - loss: 0.2707 - accuracy: 0.9369 - val_loss: 0.3218 - val_accuracy: 0.9185\n",
      "Epoch 18/100\n",
      "34/34 [==============================] - 0s 2ms/step - loss: 0.2832 - accuracy: 0.9294 - val_loss: 0.2563 - val_accuracy: 0.9370\n",
      "Epoch 19/100\n",
      "34/34 [==============================] - 0s 2ms/step - loss: 0.2731 - accuracy: 0.9313 - val_loss: 0.2865 - val_accuracy: 0.9259\n",
      "Epoch 20/100\n",
      "34/34 [==============================] - 0s 2ms/step - loss: 0.2471 - accuracy: 0.9461 - val_loss: 0.2783 - val_accuracy: 0.9333\n",
      "Epoch 21/100\n",
      "34/34 [==============================] - 0s 2ms/step - loss: 0.2589 - accuracy: 0.9257 - val_loss: 0.2459 - val_accuracy: 0.9407\n",
      "Epoch 22/100\n",
      "34/34 [==============================] - 0s 2ms/step - loss: 0.2439 - accuracy: 0.9369 - val_loss: 0.3005 - val_accuracy: 0.9407\n",
      "Epoch 23/100\n",
      "34/34 [==============================] - 0s 2ms/step - loss: 0.2089 - accuracy: 0.9564 - val_loss: 0.2744 - val_accuracy: 0.9407\n",
      "Epoch 24/100\n",
      "34/34 [==============================] - 0s 2ms/step - loss: 0.2174 - accuracy: 0.9415 - val_loss: 0.2812 - val_accuracy: 0.9370\n",
      "Epoch 25/100\n",
      "34/34 [==============================] - 0s 2ms/step - loss: 0.2058 - accuracy: 0.9545 - val_loss: 0.3342 - val_accuracy: 0.9074\n",
      "Epoch 26/100\n",
      "34/34 [==============================] - 0s 2ms/step - loss: 0.2207 - accuracy: 0.9387 - val_loss: 0.3194 - val_accuracy: 0.9185\n",
      "Epoch 27/100\n",
      "34/34 [==============================] - 0s 2ms/step - loss: 0.2122 - accuracy: 0.9443 - val_loss: 0.2893 - val_accuracy: 0.9407\n",
      "Epoch 28/100\n",
      "34/34 [==============================] - 0s 2ms/step - loss: 0.2036 - accuracy: 0.9480 - val_loss: 0.2938 - val_accuracy: 0.9296\n",
      "Epoch 29/100\n",
      "34/34 [==============================] - 0s 2ms/step - loss: 0.2041 - accuracy: 0.9406 - val_loss: 0.2306 - val_accuracy: 0.9519\n",
      "Epoch 30/100\n",
      "34/34 [==============================] - 0s 2ms/step - loss: 0.1999 - accuracy: 0.9471 - val_loss: 0.2603 - val_accuracy: 0.9407\n",
      "Epoch 31/100\n",
      "34/34 [==============================] - 0s 2ms/step - loss: 0.2083 - accuracy: 0.9369 - val_loss: 0.2408 - val_accuracy: 0.9370\n",
      "Epoch 32/100\n",
      "34/34 [==============================] - 0s 2ms/step - loss: 0.1900 - accuracy: 0.9508 - val_loss: 0.2556 - val_accuracy: 0.9519\n",
      "Epoch 33/100\n",
      "34/34 [==============================] - 0s 2ms/step - loss: 0.2116 - accuracy: 0.9415 - val_loss: 0.2359 - val_accuracy: 0.9444\n",
      "Epoch 34/100\n",
      "34/34 [==============================] - 0s 2ms/step - loss: 0.1681 - accuracy: 0.9601 - val_loss: 0.2003 - val_accuracy: 0.9556\n",
      "Epoch 35/100\n",
      "34/34 [==============================] - 0s 2ms/step - loss: 0.1553 - accuracy: 0.9638 - val_loss: 0.2405 - val_accuracy: 0.9444\n",
      "Epoch 36/100\n",
      "34/34 [==============================] - 0s 2ms/step - loss: 0.1746 - accuracy: 0.9582 - val_loss: 0.1996 - val_accuracy: 0.9519\n",
      "Epoch 37/100\n",
      "34/34 [==============================] - 0s 2ms/step - loss: 0.1657 - accuracy: 0.9638 - val_loss: 0.2110 - val_accuracy: 0.9556\n",
      "Epoch 38/100\n",
      "34/34 [==============================] - 0s 2ms/step - loss: 0.1886 - accuracy: 0.9471 - val_loss: 0.2336 - val_accuracy: 0.9519\n",
      "Epoch 39/100\n",
      "34/34 [==============================] - 0s 2ms/step - loss: 0.2162 - accuracy: 0.9415 - val_loss: 0.2391 - val_accuracy: 0.9296\n",
      "Epoch 40/100\n",
      "34/34 [==============================] - 0s 2ms/step - loss: 0.1934 - accuracy: 0.9508 - val_loss: 0.2340 - val_accuracy: 0.9519\n",
      "Epoch 41/100\n",
      "34/34 [==============================] - 0s 2ms/step - loss: 0.2064 - accuracy: 0.9434 - val_loss: 0.2303 - val_accuracy: 0.9519\n",
      "Epoch 42/100\n",
      "34/34 [==============================] - 0s 2ms/step - loss: 0.1767 - accuracy: 0.9536 - val_loss: 0.2490 - val_accuracy: 0.9333\n",
      "Epoch 43/100\n",
      "34/34 [==============================] - 0s 2ms/step - loss: 0.1647 - accuracy: 0.9564 - val_loss: 0.2093 - val_accuracy: 0.9481\n",
      "Epoch 44/100\n",
      "34/34 [==============================] - 0s 2ms/step - loss: 0.1873 - accuracy: 0.9471 - val_loss: 0.2077 - val_accuracy: 0.9481\n"
     ]
    }
   ],
   "source": [
    "\n",
    "model.compile(loss = 'categorical_crossentropy', optimizer = tf.keras.optimizers.Adam(learning_rate = 0.005), metrics = ['accuracy'])\n",
    "\n",
    "history = model.fit(X_train, Y_train, \n",
    "                    epochs = 100, \n",
    "                    validation_split = 0.2, \n",
    "                    callbacks = [callback])"
   ]
  },
  {
   "cell_type": "code",
   "execution_count": 44,
   "id": "823bffdc",
   "metadata": {},
   "outputs": [
    {
     "data": {
      "image/png": "[encoded data removed]",
      "text/plain": [
       "<Figure size 640x480 with 1 Axes>"
      ]
     },
     "metadata": {},
     "output_type": "display_data"
    }
   ],
   "source": [
    "plt.figure()\n",
    "plt.title(\"Learning curves\")\n",
    "plt.xlabel(\"Epoch\")\n",
    "plt.ylabel(\"Cross entropy loss\")\n",
    "plt.plot(history.history['loss'], label = 'train')\n",
    "plt.plot(history.history['val_loss'], label = 'valid')\n",
    "plt.legend()\n",
    "plt.show()"
   ]
  },
  {
   "cell_type": "code",
   "execution_count": 45,
   "id": "8bf937d0",
   "metadata": {},
   "outputs": [
    {
     "name": "stdout",
     "output_type": "stream",
     "text": [
      "43/43 [==============================] - 0s 834us/step - loss: 0.1119 - accuracy: 0.9777\n",
      "Loss + accuracy on train data: [0.11190802603960037, 0.9777283072471619]\n",
      "15/15 [==============================] - 0s 855us/step - loss: 0.1776 - accuracy: 0.9444\n",
      "Loss + accuracy on test data: [0.17756013572216034, 0.9444444179534912]\n"
     ]
    }
   ],
   "source": [
    "print(\"Loss + accuracy on train data: {}\".format(model.evaluate(X_train, Y_train)))\n",
    "print(\"Loss + accuracy on test data: {}\".format(model.evaluate(X_test, Y_test)))"
   ]
  },
  {
   "cell_type": "markdown",
   "id": "3fc6fc96",
   "metadata": {},
   "source": [
    "# Consider misclassified digits"
   ]
  },
  {
   "cell_type": "code",
   "execution_count": 46,
   "id": "3ca110a9",
   "metadata": {},
   "outputs": [
    {
     "name": "stdout",
     "output_type": "stream",
     "text": [
      "15/15 [==============================] - 0s 784us/step\n",
      "Predictions = [5 7 2 4 9 0 3 0 9 6 8 4 7 2 6 3 3 4 8 1 0 7 7 8 4 6 7 5 8 9]\n",
      "Labels      = [5 7 2 4 9 0 3 0 9 6 8 4 7 2 6 3 3 5 8 1 0 7 7 8 6 1 7 5 8 9]\n"
     ]
    }
   ],
   "source": [
    "probabilities = np.array(model.predict(X_test))\n",
    "predictions = np.argmax(probabilities, axis = 1) #what does the model predict\n",
    "labels = np.argmax(Y_test, axis = 1) #what are the actual labels\n",
    "\n",
    "print(\"Predictions = {}\".format(predictions[0:30]))\n",
    "print(\"Labels      = {}\".format(labels[0:30]))"
   ]
  },
  {
   "cell_type": "code",
   "execution_count": 47,
   "id": "0b427657",
   "metadata": {},
   "outputs": [
    {
     "name": "stdout",
     "output_type": "stream",
     "text": [
      "This digit is 1, but classified as 6.\n"
     ]
    },
    {
     "data": {
      "image/png": "[encoded data removed]",
      "text/plain": [
       "<Figure size 640x480 with 1 Axes>"
      ]
     },
     "metadata": {},
     "output_type": "display_data"
    }
   ],
   "source": [
    "misclas_idxs = np.argwhere(predictions != labels)\n",
    "\n",
    "b = randint(low = 0, high = len(misclas_idxs) - 1) #choose a random index\n",
    "a = misclas_idxs[b][0] # find out what image that index is\n",
    "plt.imshow(np.reshape(X_test[a], (8,8)), cmap='Greys')\n",
    "print(\"This digit is {}, but classified as {}.\".format(labels[a], predictions[a]))"
   ]
  },
  {
   "cell_type": "code",
   "execution_count": null,
   "id": "e8c2ffe6",
   "metadata": {},
   "outputs": [],
   "source": []
  }
 ],
 "metadata": {
  "kernelspec": {
   "display_name": "Python 3 (ipykernel)",
   "language": "python",
   "name": "python3"
  },
  "language_info": {
   "codemirror_mode": {
    "name": "ipython",
    "version": 3
   },
   "file_extension": ".py",
   "mimetype": "text/x-python",
   "name": "python",
   "nbconvert_exporter": "python",
   "pygments_lexer": "ipython3",
   "version": "3.11.5"
  }
 },
 "nbformat": 4,
 "nbformat_minor": 5
}
