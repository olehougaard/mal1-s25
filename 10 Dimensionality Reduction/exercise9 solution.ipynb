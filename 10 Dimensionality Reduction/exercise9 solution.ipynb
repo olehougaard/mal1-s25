{
 "cells": [
  {
   "cell_type": "code",
   "execution_count": 4,
   "id": "4688b807",
   "metadata": {},
   "outputs": [],
   "source": [
    "import numpy as np\n",
    "\n",
    "def sigmoid(t):\n",
    "  return 1/(1 + np.exp(-t))\n",
    "\n",
    "def heaviside(t):\n",
    "  return np.round(sigmoid(t))\n",
    "\n",
    "# Turns an input vector (x0, x1) into (x0, x1, 1) to allow for a bias term\n",
    "def biased(v):\n",
    "  return np.append([1], v)\n",
    "\n",
    "X = np.array([[0, 0], [0, 1], [1, 0], [1, 1]])\n",
    "y = np.array([0, 1, 1, 0])\n"
   ]
  },
  {
   "cell_type": "code",
   "execution_count": 7,
   "id": "5cf89b89",
   "metadata": {},
   "outputs": [
    {
     "name": "stdout",
     "output_type": "stream",
     "text": [
      "[array([0.]), array([1.]), array([1.]), array([0.])]\n"
     ]
    }
   ],
   "source": [
    "def nn(x):\n",
    "    l1 = np.array([\n",
    "        [-1.5, 1, 1],\n",
    "        [-.5, 1, 1]\n",
    "    ])\n",
    "    l2 = np.array([\n",
    "        [-.5, -1, 1]\n",
    "    ])\n",
    "    input = l1 @ biased(x)\n",
    "    hidden = heaviside(input)\n",
    "    o = l2 @ biased(hidden)\n",
    "    return heaviside(o)\n",
    "\n",
    "print([nn(x) for x in X])"
   ]
  },
  {
   "cell_type": "code",
   "execution_count": 13,
   "id": "b97e5a87",
   "metadata": {},
   "outputs": [
    {
     "name": "stdout",
     "output_type": "stream",
     "text": [
      "[[0.]\n",
      " [0.]\n",
      " [0.]\n",
      " [0.]]\n",
      "0.6905392895752118\n"
     ]
    }
   ],
   "source": [
    "def nn(x):\n",
    "    l1 = np.array([\n",
    "        [-1.5, 1, 1],\n",
    "        [-.5, 1, 1]\n",
    "    ])\n",
    "    l2 = np.array([\n",
    "        [-.5, -1, 1]\n",
    "    ])\n",
    "    input = l1 @ biased(x)\n",
    "    hidden = sigmoid(input)\n",
    "    o = l2 @ biased(hidden)\n",
    "    return sigmoid(o)\n",
    "\n",
    "p = [nn(x) for x in X]\n",
    "yhat = np.round(p)\n",
    "print(yhat)\n",
    "\n",
    "def loss(y, p):\n",
    "    return - (y * np.log(p) + (1-y) * np.log(1-p))\n",
    "\n",
    "losses = [loss(y[i], p[i]) for i in range(X.shape[0])]\n",
    "\n",
    "L = np.mean(losses)\n",
    "print(L)"
   ]
  },
  {
   "cell_type": "code",
   "execution_count": 14,
   "id": "502f2aa9",
   "metadata": {},
   "outputs": [
    {
     "name": "stdout",
     "output_type": "stream",
     "text": [
      "[array([0.]), array([1.]), array([1.]), array([0.])]\n"
     ]
    }
   ],
   "source": [
    "def nn(x):\n",
    "    l1 = np.array([\n",
    "        [-4, 8, 8],\n",
    "        [12, -8, -8]\n",
    "    ])\n",
    "    l2 = np.array([\n",
    "        [-1, .75, .75]\n",
    "    ])\n",
    "    input = l1 @ biased(x)\n",
    "    hidden = sigmoid(input)\n",
    "    o = l2 @ biased(hidden)\n",
    "    return heaviside(o)\n",
    "\n",
    "print([nn(x) for x in X])"
   ]
  },
  {
   "cell_type": "code",
   "execution_count": 17,
   "id": "be5b755c",
   "metadata": {},
   "outputs": [
    {
     "name": "stdout",
     "output_type": "stream",
     "text": [
      "[array([0.44114536]), array([0.61609846]), array([0.61609846]), array([0.44114536])]\n",
      "[[0.]\n",
      " [1.]\n",
      " [1.]\n",
      " [0.]]\n",
      "0.5331071848579314\n"
     ]
    }
   ],
   "source": [
    "def nn(x):\n",
    "    l1 = np.array([\n",
    "        [-4, 8, 8],\n",
    "        [12, -8, -8]\n",
    "    ])\n",
    "    l2 = np.array([\n",
    "        [-1, .75, .75]\n",
    "    ])\n",
    "    input = l1 @ biased(x)\n",
    "    hidden = sigmoid(input)\n",
    "    o = l2 @ biased(hidden)\n",
    "    return sigmoid(o)\n",
    "\n",
    "print([nn(x) for x in X])\n",
    "\n",
    "p = [nn(x) for x in X]\n",
    "yhat = np.round(p)\n",
    "print(yhat)\n",
    "\n",
    "losses = [loss(y[i], p[i]) for i in range(X.shape[0])]\n",
    "\n",
    "L = np.mean(losses)\n",
    "print(L)"
   ]
  },
  {
   "cell_type": "code",
   "execution_count": 19,
   "id": "d0dd810d",
   "metadata": {},
   "outputs": [
    {
     "name": "stdout",
     "output_type": "stream",
     "text": [
      "[array([0.08586912]), array([0.99125255]), array([0.99125255]), array([0.08586912])]\n",
      "[[0.]\n",
      " [1.]\n",
      " [1.]\n",
      " [0.]]\n",
      "0.04928372827156684\n"
     ]
    }
   ],
   "source": [
    "def nn(x):\n",
    "    l1 = np.array([\n",
    "        [-4, 8, 8],\n",
    "        [12, -8, -8]\n",
    "    ])\n",
    "    l2 = np.array([\n",
    "        [-10, 7.5, 7.5]\n",
    "    ]) \n",
    "    input = l1 @ biased(x)\n",
    "    hidden = sigmoid(input)\n",
    "    o = l2 @ biased(hidden)\n",
    "    return sigmoid(o)\n",
    "\n",
    "print([nn(x) for x in X])\n",
    "\n",
    "p = [nn(x) for x in X]\n",
    "yhat = np.round(p)\n",
    "print(yhat)\n",
    "\n",
    "losses = [loss(y[i], p[i]) for i in range(X.shape[0])]\n",
    "\n",
    "L = np.mean(losses)\n",
    "print(L)"
   ]
  }
 ],
 "metadata": {
  "kernelspec": {
   "display_name": "Python 3",
   "language": "python",
   "name": "python3"
  },
  "language_info": {
   "codemirror_mode": {
    "name": "ipython",
    "version": 3
   },
   "file_extension": ".py",
   "mimetype": "text/x-python",
   "name": "python",
   "nbconvert_exporter": "python",
   "pygments_lexer": "ipython3",
   "version": "3.11.5"
  }
 },
 "nbformat": 4,
 "nbformat_minor": 5
}
