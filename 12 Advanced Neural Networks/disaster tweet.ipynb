{
 "cells": [
  {
   "cell_type": "markdown",
   "metadata": {},
   "source": [
    "# Disaster tweets\n",
    "\n",
    "The data used in this example is from Kaggle's Disaster Tweets: https://www.kaggle.com/competitions/nlp-getting-started/overview"
   ]
  },
  {
   "cell_type": "code",
   "execution_count": 16,
   "metadata": {},
   "outputs": [
    {
     "data": {
      "text/plain": [
       "(0.5703402075397347, 0.4296597924602653)"
      ]
     },
     "execution_count": 16,
     "metadata": {},
     "output_type": "execute_result"
    }
   ],
   "source": [
    "import pandas as pd\n",
    "import numpy as np\n",
    "import matplotlib.pyplot as plt\n",
    "import tensorflow as tf\n",
    "layers = tf.keras.layers\n",
    "\n",
    "tweets = pd.read_csv('train.csv')\n",
    "len(tweets[tweets.target == 0]) / len(tweets), len(tweets[tweets.target == 1]) / len(tweets)"
   ]
  },
  {
   "cell_type": "markdown",
   "metadata": {},
   "source": [
    "We see that the tweets are pretty balanced. We don't need to do anything here."
   ]
  },
  {
   "cell_type": "code",
   "execution_count": 17,
   "metadata": {},
   "outputs": [
    {
     "data": {
      "text/plain": [
       "((7613,), (7613,))"
      ]
     },
     "execution_count": 17,
     "metadata": {},
     "output_type": "execute_result"
    }
   ],
   "source": [
    "X = tweets.text.to_numpy()\n",
    "y = tweets.target.to_numpy()\n",
    "\n",
    "X.shape, y.shape"
   ]
  },
  {
   "cell_type": "markdown",
   "metadata": {},
   "source": [
    "A lot of words are too common to matter, so-called stopwords. Typically, we get better results by removing the stopwords. Also removing the hash-tags, since I'm trying to solve it as a natural language problem."
   ]
  },
  {
   "cell_type": "code",
   "execution_count": 18,
   "metadata": {},
   "outputs": [
    {
     "name": "stderr",
     "output_type": "stream",
     "text": [
      "[nltk_data] Downloading package stopwords to\n",
      "[nltk_data]     C:\\Users\\oih\\AppData\\Roaming\\nltk_data...\n",
      "[nltk_data]   Package stopwords is already up-to-date!\n",
      "[nltk_data] Downloading package punkt to\n",
      "[nltk_data]     C:\\Users\\oih\\AppData\\Roaming\\nltk_data...\n",
      "[nltk_data]   Package punkt is already up-to-date!\n"
     ]
    },
    {
     "data": {
      "text/plain": [
       "array(['our deeds reason earthquake may allah forgive us',\n",
       "       'forest fire near la ronge sask . canada',\n",
       "       \"all residents asked 'shelter place ' notified officers . no evacuation shelter place orders expected\",\n",
       "       '13,000 people receive wildfires evacuation orders california',\n",
       "       'just got sent photo ruby alaska smoke wildfires pours school',\n",
       "       'rockyfire update = > california hwy . 20 closed directions due lake county fire - cafire wildfires',\n",
       "       'flood disaster heavy rain causes flash flooding streets manitou , colorado springs areas',\n",
       "       \"i 'm top hill i see fire woods ...\",\n",
       "       \"there 's emergency evacuation happening building across street\",\n",
       "       \"i 'm afraid tornado coming area ...\"], dtype='<U193')"
      ]
     },
     "execution_count": 18,
     "metadata": {},
     "output_type": "execute_result"
    }
   ],
   "source": [
    "import nltk\n",
    "nltk.download('stopwords')\n",
    "nltk.download('punkt')\n",
    "\n",
    "from nltk.corpus import stopwords\n",
    "from nltk.tokenize import word_tokenize\n",
    "\n",
    "s_words = frozenset(stopwords.words('english'))\n",
    "\n",
    "def clean(sentence):\n",
    "  tokens = word_tokenize(sentence)\n",
    "  tokens = [t.lower() for t in tokens if t not in s_words and not t.startswith('#')]\n",
    "  return ' '.join(tokens)\n",
    "\n",
    "X = np.array([clean(x) for x in X])\n",
    "X[0:10]\n"
   ]
  },
  {
   "cell_type": "code",
   "execution_count": 19,
   "metadata": {},
   "outputs": [
    {
     "name": "stdout",
     "output_type": "stream",
     "text": [
      "68\n"
     ]
    },
    {
     "data": {
      "text/plain": [
       "(array([7.440e+02, 2.880e+03, 3.376e+03, 5.370e+02, 5.900e+01, 1.000e+01,\n",
       "        2.000e+00, 2.000e+00, 2.000e+00, 1.000e+00]),\n",
       " array([ 1. ,  7.7, 14.4, 21.1, 27.8, 34.5, 41.2, 47.9, 54.6, 61.3, 68. ]),\n",
       " <BarContainer object of 10 artists>)"
      ]
     },
     "execution_count": 19,
     "metadata": {},
     "output_type": "execute_result"
    },
    {
     "data": {
      "image/png": "[encoded data removed]",
      "text/plain": [
       "<Figure size 640x480 with 1 Axes>"
      ]
     },
     "metadata": {},
     "output_type": "display_data"
    }
   ],
   "source": [
    "tweet_lengths = [len(word_tokenize(x)) for x in X]\n",
    "print(np.max(tweet_lengths))\n",
    "plt.hist(tweet_lengths)"
   ]
  },
  {
   "cell_type": "code",
   "execution_count": 20,
   "metadata": {},
   "outputs": [],
   "source": [
    "from sklearn.model_selection import train_test_split\n",
    "\n",
    "X_train, X_test, y_train, y_test = train_test_split(X, y, train_size=.8, random_state=504)\n",
    "X_train, X_test = tf.convert_to_tensor(X_train, dtype=tf.string), tf.convert_to_tensor(X_test, dtype=tf.string)"
   ]
  },
  {
   "cell_type": "markdown",
   "metadata": {},
   "source": [
    "# Building the model\n",
    "\n",
    "We'll need an embedding to get a semantic understanding of the words. We can either make a learnable Embedding layer or download a pre-trained one.\n",
    "\n",
    "Here I'm showing how to use the GloVe embedding. I ended up not using, though.\n",
    "\n",
    "__Note__: You have to download the embedding yourself. It's over 100MB."
   ]
  },
  {
   "cell_type": "code",
   "execution_count": 21,
   "metadata": {},
   "outputs": [],
   "source": [
    "# GloVe = {}\n",
    "\n",
    "# with open('./glove.6B.50d.txt','r', encoding='UTF-8') as f:\n",
    "#     for line in f:\n",
    "#         values = line.split()\n",
    "#         word = values[0]\n",
    "#         vectors = np.asarray(values[1:],'float32')\n",
    "#         GloVe[word] = vectors\n",
    "        \n",
    "# f.close()\n",
    "\n",
    "# embed_dim = len(GloVe['the'])\n"
   ]
  },
  {
   "cell_type": "code",
   "execution_count": 22,
   "metadata": {},
   "outputs": [],
   "source": [
    "def create_embedding_matrix(vocabulary, dim):\n",
    "  num_words = len(vocabulary)\n",
    "  embedding_matrix = np.zeros((num_words, dim))\n",
    "\n",
    "  hits, misses = 0, 0\n",
    "  for i, word in enumerate(vocabulary):\n",
    "    if word in GloVe:\n",
    "      embedding_matrix[i] = GloVe[word]\n",
    "      hits += 1\n",
    "    else:\n",
    "      misses +=1\n",
    "  \n",
    "  print(hits, misses)\n",
    "  return embedding_matrix"
   ]
  },
  {
   "cell_type": "markdown",
   "metadata": {},
   "source": [
    "The vectorization layer turns input strings into (arbitrary) vectors. It must be the first layer. We adapt it to the input text, so that it learns the words in the corpus. It's a good bet that the words in the corpus are common enough for future tweets."
   ]
  },
  {
   "cell_type": "code",
   "execution_count": 23,
   "metadata": {},
   "outputs": [],
   "source": [
    "vocab_size = 5000\n",
    "\n",
    "vectorization = layers.TextVectorization(max_tokens=vocab_size, output_sequence_length=30)\n",
    "vectorization.adapt(X)\n"
   ]
  },
  {
   "cell_type": "markdown",
   "metadata": {},
   "source": [
    "The first layer after the vectorization is the embedding layer. The embedding layer turns the arbitrary vectors from the vectorization into something meaningful. How? It's learnable.\n",
    "\n",
    "Note the regularization on the Embedding layer. It has a lot of parameters and is at risk of overfitting (fitting to the training data instead of word meaning).\n",
    "\n",
    "The actual recurrent part of the network is quite small to combat overfitting."
   ]
  },
  {
   "cell_type": "code",
   "execution_count": 54,
   "metadata": {},
   "outputs": [
    {
     "name": "stdout",
     "output_type": "stream",
     "text": [
      "Model: \"sequential_6\"\n",
      "_________________________________________________________________\n",
      " Layer (type)                Output Shape              Param #   \n",
      "=================================================================\n",
      " text_vectorization (TextVe  (None, 30)                0         \n",
      " ctorization)                                                    \n",
      "                                                                 \n",
      " embedding_6 (Embedding)     (None, 30, 20)            100000    \n",
      "                                                                 \n",
      " simple_rnn_6 (SimpleRNN)    (None, 32)                1696      \n",
      "                                                                 \n",
      " dense_6 (Dense)             (None, 1)                 33        \n",
      "                                                                 \n",
      "=================================================================\n",
      "Total params: 101729 (397.38 KB)\n",
      "Trainable params: 101729 (397.38 KB)\n",
      "Non-trainable params: 0 (0.00 Byte)\n",
      "_________________________________________________________________\n"
     ]
    }
   ],
   "source": [
    "# embedding_matrix = create_embedding_matrix(vectorization.get_vocabulary(), embed_dim)\n",
    "# initializer = tf.keras.initializers.Constant(embedding_matrix)\n",
    "\n",
    "ann = tf.keras.Sequential([\n",
    "    layers.Input(shape=(1,), dtype='string'),\n",
    "    vectorization,\n",
    "    layers.Embedding(vocab_size, 20, mask_zero=True, embeddings_regularizer=tf.keras.regularizers.L1(.01)),\n",
    "    layers.SimpleRNN(32, recurrent_regularizer='l2'),\n",
    "    layers.Dense(1, activation='sigmoid')\n",
    "])\n",
    "ann.summary()"
   ]
  },
  {
   "cell_type": "code",
   "execution_count": 58,
   "metadata": {},
   "outputs": [
    {
     "name": "stdout",
     "output_type": "stream",
     "text": [
      "Epoch 1/200\n",
      "153/153 [==============================] - 3s 8ms/step - loss: 0.7872 - accuracy: 0.6361 - val_loss: 0.7664 - val_accuracy: 0.6346 - lr: 0.0010\n",
      "Epoch 2/200\n",
      "153/153 [==============================] - 1s 6ms/step - loss: 0.7684 - accuracy: 0.6369 - val_loss: 0.7686 - val_accuracy: 0.6338 - lr: 0.0010\n",
      "Epoch 3/200\n",
      "153/153 [==============================] - 1s 6ms/step - loss: 0.7695 - accuracy: 0.6359 - val_loss: 0.7821 - val_accuracy: 0.6338 - lr: 0.0010\n",
      "Epoch 4/200\n",
      "153/153 [==============================] - 1s 6ms/step - loss: 0.7682 - accuracy: 0.6355 - val_loss: 0.7961 - val_accuracy: 0.6346 - lr: 0.0010\n",
      "Epoch 5/200\n",
      "153/153 [==============================] - 1s 6ms/step - loss: 0.7699 - accuracy: 0.6351 - val_loss: 0.7592 - val_accuracy: 0.6346 - lr: 0.0010\n",
      "Epoch 6/200\n",
      "153/153 [==============================] - 1s 6ms/step - loss: 0.7680 - accuracy: 0.6363 - val_loss: 0.7768 - val_accuracy: 0.6346 - lr: 0.0010\n",
      "Epoch 7/200\n",
      "153/153 [==============================] - 1s 7ms/step - loss: 0.7693 - accuracy: 0.6361 - val_loss: 0.7827 - val_accuracy: 0.6346 - lr: 0.0010\n",
      "Epoch 8/200\n",
      "153/153 [==============================] - 1s 7ms/step - loss: 0.7687 - accuracy: 0.6369 - val_loss: 0.7692 - val_accuracy: 0.6346 - lr: 0.0010\n",
      "Epoch 9/200\n",
      "153/153 [==============================] - 1s 6ms/step - loss: 0.7697 - accuracy: 0.6355 - val_loss: 0.7810 - val_accuracy: 0.6346 - lr: 0.0010\n",
      "Epoch 10/200\n",
      "153/153 [==============================] - 1s 6ms/step - loss: 0.7701 - accuracy: 0.6371 - val_loss: 0.7751 - val_accuracy: 0.6363 - lr: 0.0010\n",
      "Epoch 11/200\n",
      "153/153 [==============================] - 1s 6ms/step - loss: 0.7220 - accuracy: 0.6357 - val_loss: 0.7213 - val_accuracy: 0.6346 - lr: 5.0000e-04\n",
      "Epoch 12/200\n",
      "153/153 [==============================] - 1s 6ms/step - loss: 0.7172 - accuracy: 0.6359 - val_loss: 0.7252 - val_accuracy: 0.6346 - lr: 5.0000e-04\n",
      "Epoch 13/200\n",
      "153/153 [==============================] - 1s 6ms/step - loss: 0.7171 - accuracy: 0.6357 - val_loss: 0.7098 - val_accuracy: 0.6346 - lr: 5.0000e-04\n",
      "Epoch 14/200\n",
      "153/153 [==============================] - 1s 6ms/step - loss: 0.7170 - accuracy: 0.6367 - val_loss: 0.7244 - val_accuracy: 0.6346 - lr: 5.0000e-04\n",
      "Epoch 15/200\n",
      "153/153 [==============================] - 1s 6ms/step - loss: 0.7169 - accuracy: 0.6357 - val_loss: 0.7112 - val_accuracy: 0.6346 - lr: 5.0000e-04\n",
      "Epoch 16/200\n",
      "153/153 [==============================] - 1s 6ms/step - loss: 0.7163 - accuracy: 0.6361 - val_loss: 0.7215 - val_accuracy: 0.6346 - lr: 5.0000e-04\n",
      "Epoch 17/200\n",
      "153/153 [==============================] - 1s 6ms/step - loss: 0.7167 - accuracy: 0.6359 - val_loss: 0.7234 - val_accuracy: 0.6346 - lr: 5.0000e-04\n",
      "Epoch 18/200\n",
      "153/153 [==============================] - 1s 6ms/step - loss: 0.7163 - accuracy: 0.6359 - val_loss: 0.7186 - val_accuracy: 0.6346 - lr: 5.0000e-04\n",
      "Epoch 19/200\n",
      "153/153 [==============================] - 1s 6ms/step - loss: 0.6852 - accuracy: 0.6359 - val_loss: 0.6821 - val_accuracy: 0.6346 - lr: 2.5000e-04\n",
      "Epoch 20/200\n",
      "153/153 [==============================] - 1s 6ms/step - loss: 0.6822 - accuracy: 0.6357 - val_loss: 0.6865 - val_accuracy: 0.6355 - lr: 2.5000e-04\n",
      "Epoch 21/200\n",
      "153/153 [==============================] - 1s 6ms/step - loss: 0.6822 - accuracy: 0.6359 - val_loss: 0.6801 - val_accuracy: 0.6346 - lr: 2.5000e-04\n",
      "Epoch 22/200\n",
      "153/153 [==============================] - 1s 6ms/step - loss: 0.6820 - accuracy: 0.6359 - val_loss: 0.6822 - val_accuracy: 0.6346 - lr: 2.5000e-04\n",
      "Epoch 23/200\n",
      "153/153 [==============================] - 1s 6ms/step - loss: 0.6820 - accuracy: 0.6359 - val_loss: 0.6814 - val_accuracy: 0.6346 - lr: 2.5000e-04\n",
      "Epoch 24/200\n",
      "153/153 [==============================] - 1s 6ms/step - loss: 0.6816 - accuracy: 0.6359 - val_loss: 0.6814 - val_accuracy: 0.6355 - lr: 2.5000e-04\n",
      "Epoch 25/200\n",
      "153/153 [==============================] - 1s 7ms/step - loss: 0.6819 - accuracy: 0.6359 - val_loss: 0.6823 - val_accuracy: 0.6355 - lr: 2.5000e-04\n",
      "Epoch 26/200\n",
      "153/153 [==============================] - 1s 7ms/step - loss: 0.6817 - accuracy: 0.6359 - val_loss: 0.6828 - val_accuracy: 0.6355 - lr: 2.5000e-04\n",
      "Epoch 27/200\n",
      "153/153 [==============================] - 1s 6ms/step - loss: 0.6689 - accuracy: 0.6359 - val_loss: 0.6674 - val_accuracy: 0.6355 - lr: 1.2500e-04\n",
      "Epoch 28/200\n",
      "153/153 [==============================] - 1s 6ms/step - loss: 0.6678 - accuracy: 0.6359 - val_loss: 0.6673 - val_accuracy: 0.6355 - lr: 1.2500e-04\n",
      "Epoch 29/200\n",
      "153/153 [==============================] - 1s 6ms/step - loss: 0.6676 - accuracy: 0.6359 - val_loss: 0.6690 - val_accuracy: 0.6355 - lr: 1.2500e-04\n",
      "Epoch 30/200\n",
      "153/153 [==============================] - 1s 6ms/step - loss: 0.6677 - accuracy: 0.6359 - val_loss: 0.6660 - val_accuracy: 0.6355 - lr: 1.2500e-04\n",
      "Epoch 31/200\n",
      "153/153 [==============================] - 1s 6ms/step - loss: 0.6676 - accuracy: 0.6359 - val_loss: 0.6680 - val_accuracy: 0.6355 - lr: 1.2500e-04\n",
      "Epoch 32/200\n",
      "153/153 [==============================] - 1s 6ms/step - loss: 0.6676 - accuracy: 0.6359 - val_loss: 0.6676 - val_accuracy: 0.6355 - lr: 1.2500e-04\n",
      "Epoch 33/200\n",
      "153/153 [==============================] - 1s 6ms/step - loss: 0.6676 - accuracy: 0.6359 - val_loss: 0.6685 - val_accuracy: 0.6355 - lr: 1.2500e-04\n",
      "Epoch 34/200\n",
      "153/153 [==============================] - 1s 6ms/step - loss: 0.6677 - accuracy: 0.6359 - val_loss: 0.6675 - val_accuracy: 0.6355 - lr: 1.2500e-04\n",
      "Epoch 35/200\n",
      "153/153 [==============================] - 1s 6ms/step - loss: 0.6675 - accuracy: 0.6359 - val_loss: 0.6647 - val_accuracy: 0.6355 - lr: 1.2500e-04\n",
      "Epoch 36/200\n",
      "153/153 [==============================] - 1s 6ms/step - loss: 0.6675 - accuracy: 0.6359 - val_loss: 0.6687 - val_accuracy: 0.6355 - lr: 1.2500e-04\n",
      "Epoch 37/200\n",
      "153/153 [==============================] - 1s 6ms/step - loss: 0.6675 - accuracy: 0.6359 - val_loss: 0.6673 - val_accuracy: 0.6355 - lr: 1.2500e-04\n",
      "Epoch 38/200\n",
      "153/153 [==============================] - 1s 6ms/step - loss: 0.6675 - accuracy: 0.6363 - val_loss: 0.6676 - val_accuracy: 0.6355 - lr: 1.2500e-04\n",
      "Epoch 39/200\n",
      "153/153 [==============================] - 1s 6ms/step - loss: 0.6675 - accuracy: 0.6359 - val_loss: 0.6685 - val_accuracy: 0.6355 - lr: 1.2500e-04\n",
      "Epoch 40/200\n",
      "153/153 [==============================] - 1s 6ms/step - loss: 0.6675 - accuracy: 0.6359 - val_loss: 0.6661 - val_accuracy: 0.6355 - lr: 1.2500e-04\n",
      "Epoch 41/200\n",
      "153/153 [==============================] - 1s 6ms/step - loss: 0.6597 - accuracy: 0.6369 - val_loss: 0.6596 - val_accuracy: 0.6355 - lr: 6.2500e-05\n",
      "Epoch 42/200\n",
      "153/153 [==============================] - 1s 6ms/step - loss: 0.6592 - accuracy: 0.6369 - val_loss: 0.6593 - val_accuracy: 0.6355 - lr: 6.2500e-05\n",
      "Epoch 43/200\n",
      "153/153 [==============================] - 1s 6ms/step - loss: 0.6591 - accuracy: 0.6359 - val_loss: 0.6591 - val_accuracy: 0.6355 - lr: 6.2500e-05\n",
      "Epoch 44/200\n",
      "153/153 [==============================] - 1s 6ms/step - loss: 0.6591 - accuracy: 0.6361 - val_loss: 0.6591 - val_accuracy: 0.6355 - lr: 6.2500e-05\n",
      "Epoch 45/200\n",
      "153/153 [==============================] - 1s 6ms/step - loss: 0.6591 - accuracy: 0.6365 - val_loss: 0.6596 - val_accuracy: 0.6355 - lr: 6.2500e-05\n",
      "Epoch 46/200\n",
      "153/153 [==============================] - 1s 6ms/step - loss: 0.6590 - accuracy: 0.6365 - val_loss: 0.6593 - val_accuracy: 0.6355 - lr: 6.2500e-05\n",
      "Epoch 47/200\n",
      "153/153 [==============================] - 1s 6ms/step - loss: 0.6590 - accuracy: 0.6369 - val_loss: 0.6593 - val_accuracy: 0.6355 - lr: 6.2500e-05\n",
      "Epoch 48/200\n",
      "153/153 [==============================] - 1s 6ms/step - loss: 0.6590 - accuracy: 0.6367 - val_loss: 0.6590 - val_accuracy: 0.6355 - lr: 6.2500e-05\n",
      "Epoch 49/200\n",
      "153/153 [==============================] - 1s 6ms/step - loss: 0.6590 - accuracy: 0.6365 - val_loss: 0.6595 - val_accuracy: 0.6355 - lr: 6.2500e-05\n",
      "Epoch 50/200\n",
      "153/153 [==============================] - 1s 6ms/step - loss: 0.6591 - accuracy: 0.6367 - val_loss: 0.6590 - val_accuracy: 0.6355 - lr: 6.2500e-05\n",
      "Epoch 51/200\n",
      "153/153 [==============================] - 1s 6ms/step - loss: 0.6590 - accuracy: 0.6367 - val_loss: 0.6588 - val_accuracy: 0.6355 - lr: 6.2500e-05\n",
      "Epoch 52/200\n",
      "153/153 [==============================] - 1s 6ms/step - loss: 0.6590 - accuracy: 0.6367 - val_loss: 0.6591 - val_accuracy: 0.6355 - lr: 6.2500e-05\n",
      "Epoch 53/200\n",
      "153/153 [==============================] - 1s 6ms/step - loss: 0.6590 - accuracy: 0.6367 - val_loss: 0.6591 - val_accuracy: 0.6355 - lr: 6.2500e-05\n",
      "Epoch 54/200\n",
      "153/153 [==============================] - 1s 6ms/step - loss: 0.6590 - accuracy: 0.6367 - val_loss: 0.6590 - val_accuracy: 0.6355 - lr: 6.2500e-05\n",
      "Epoch 55/200\n",
      "153/153 [==============================] - 1s 6ms/step - loss: 0.6590 - accuracy: 0.6367 - val_loss: 0.6593 - val_accuracy: 0.6355 - lr: 6.2500e-05\n",
      "Epoch 56/200\n",
      "153/153 [==============================] - 1s 6ms/step - loss: 0.6590 - accuracy: 0.6365 - val_loss: 0.6587 - val_accuracy: 0.6355 - lr: 6.2500e-05\n",
      "Epoch 57/200\n",
      "153/153 [==============================] - 1s 6ms/step - loss: 0.6557 - accuracy: 0.6367 - val_loss: 0.6555 - val_accuracy: 0.6355 - lr: 3.1250e-05\n",
      "Epoch 58/200\n",
      "153/153 [==============================] - 1s 6ms/step - loss: 0.6554 - accuracy: 0.6367 - val_loss: 0.6556 - val_accuracy: 0.6355 - lr: 3.1250e-05\n",
      "Epoch 59/200\n",
      "153/153 [==============================] - 1s 6ms/step - loss: 0.6554 - accuracy: 0.6367 - val_loss: 0.6555 - val_accuracy: 0.6355 - lr: 3.1250e-05\n",
      "Epoch 60/200\n",
      "153/153 [==============================] - 1s 6ms/step - loss: 0.6553 - accuracy: 0.6367 - val_loss: 0.6555 - val_accuracy: 0.6355 - lr: 3.1250e-05\n",
      "Epoch 61/200\n",
      "153/153 [==============================] - 1s 6ms/step - loss: 0.6554 - accuracy: 0.6365 - val_loss: 0.6558 - val_accuracy: 0.6355 - lr: 3.1250e-05\n",
      "Epoch 62/200\n",
      "153/153 [==============================] - 1s 6ms/step - loss: 0.6554 - accuracy: 0.6367 - val_loss: 0.6554 - val_accuracy: 0.6355 - lr: 3.1250e-05\n",
      "Epoch 63/200\n",
      "153/153 [==============================] - 1s 6ms/step - loss: 0.6537 - accuracy: 0.6367 - val_loss: 0.6537 - val_accuracy: 0.6355 - lr: 1.5625e-05\n",
      "Epoch 64/200\n",
      "153/153 [==============================] - 1s 6ms/step - loss: 0.6536 - accuracy: 0.6367 - val_loss: 0.6537 - val_accuracy: 0.6355 - lr: 1.5625e-05\n",
      "Epoch 65/200\n",
      "153/153 [==============================] - 1s 6ms/step - loss: 0.6535 - accuracy: 0.6367 - val_loss: 0.6536 - val_accuracy: 0.6355 - lr: 1.5625e-05\n",
      "Epoch 66/200\n",
      "153/153 [==============================] - 1s 6ms/step - loss: 0.6535 - accuracy: 0.6367 - val_loss: 0.6537 - val_accuracy: 0.6355 - lr: 1.5625e-05\n",
      "Epoch 67/200\n",
      "153/153 [==============================] - 1s 6ms/step - loss: 0.6535 - accuracy: 0.6367 - val_loss: 0.6537 - val_accuracy: 0.6355 - lr: 1.5625e-05\n",
      "Epoch 68/200\n",
      "153/153 [==============================] - 1s 6ms/step - loss: 0.6535 - accuracy: 0.6367 - val_loss: 0.6536 - val_accuracy: 0.6355 - lr: 1.5625e-05\n",
      "Epoch 69/200\n",
      "153/153 [==============================] - 1s 6ms/step - loss: 0.6526 - accuracy: 0.6367 - val_loss: 0.6527 - val_accuracy: 0.6355 - lr: 7.8125e-06\n",
      "Epoch 70/200\n",
      "153/153 [==============================] - 1s 6ms/step - loss: 0.6526 - accuracy: 0.6367 - val_loss: 0.6527 - val_accuracy: 0.6355 - lr: 7.8125e-06\n",
      "Epoch 71/200\n",
      "153/153 [==============================] - 1s 6ms/step - loss: 0.6526 - accuracy: 0.6367 - val_loss: 0.6527 - val_accuracy: 0.6355 - lr: 7.8125e-06\n",
      "Epoch 72/200\n",
      "153/153 [==============================] - 1s 6ms/step - loss: 0.6526 - accuracy: 0.6367 - val_loss: 0.6527 - val_accuracy: 0.6355 - lr: 7.8125e-06\n",
      "Epoch 73/200\n",
      "153/153 [==============================] - 1s 6ms/step - loss: 0.6526 - accuracy: 0.6367 - val_loss: 0.6527 - val_accuracy: 0.6355 - lr: 7.8125e-06\n",
      "Epoch 74/200\n",
      "153/153 [==============================] - 1s 6ms/step - loss: 0.6526 - accuracy: 0.6367 - val_loss: 0.6527 - val_accuracy: 0.6355 - lr: 7.8125e-06\n",
      "Epoch 75/200\n",
      "153/153 [==============================] - 1s 6ms/step - loss: 0.6521 - accuracy: 0.6367 - val_loss: 0.6522 - val_accuracy: 0.6355 - lr: 3.9063e-06\n",
      "Epoch 76/200\n",
      "153/153 [==============================] - 1s 6ms/step - loss: 0.6521 - accuracy: 0.6367 - val_loss: 0.6522 - val_accuracy: 0.6355 - lr: 3.9063e-06\n",
      "Epoch 77/200\n",
      "153/153 [==============================] - 1s 6ms/step - loss: 0.6521 - accuracy: 0.6367 - val_loss: 0.6522 - val_accuracy: 0.6355 - lr: 3.9063e-06\n",
      "Epoch 78/200\n",
      "153/153 [==============================] - 1s 6ms/step - loss: 0.6521 - accuracy: 0.6367 - val_loss: 0.6522 - val_accuracy: 0.6355 - lr: 3.9063e-06\n",
      "Epoch 79/200\n",
      "153/153 [==============================] - 1s 6ms/step - loss: 0.6521 - accuracy: 0.6367 - val_loss: 0.6522 - val_accuracy: 0.6355 - lr: 3.9063e-06\n",
      "Epoch 80/200\n",
      "153/153 [==============================] - 1s 6ms/step - loss: 0.6521 - accuracy: 0.6367 - val_loss: 0.6522 - val_accuracy: 0.6355 - lr: 3.9063e-06\n",
      "Epoch 81/200\n",
      "153/153 [==============================] - 1s 6ms/step - loss: 0.6519 - accuracy: 0.6367 - val_loss: 0.6520 - val_accuracy: 0.6355 - lr: 1.9531e-06\n",
      "Epoch 82/200\n",
      "153/153 [==============================] - 1s 6ms/step - loss: 0.6518 - accuracy: 0.6367 - val_loss: 0.6520 - val_accuracy: 0.6355 - lr: 1.9531e-06\n",
      "Epoch 83/200\n",
      "153/153 [==============================] - 1s 6ms/step - loss: 0.6518 - accuracy: 0.6367 - val_loss: 0.6520 - val_accuracy: 0.6355 - lr: 1.9531e-06\n",
      "Epoch 84/200\n",
      "153/153 [==============================] - 1s 6ms/step - loss: 0.6518 - accuracy: 0.6367 - val_loss: 0.6520 - val_accuracy: 0.6355 - lr: 1.9531e-06\n",
      "Epoch 85/200\n",
      "153/153 [==============================] - 1s 6ms/step - loss: 0.6518 - accuracy: 0.6367 - val_loss: 0.6520 - val_accuracy: 0.6355 - lr: 1.9531e-06\n",
      "Epoch 86/200\n",
      "153/153 [==============================] - 1s 6ms/step - loss: 0.6518 - accuracy: 0.6367 - val_loss: 0.6520 - val_accuracy: 0.6355 - lr: 1.9531e-06\n",
      "Epoch 87/200\n",
      "153/153 [==============================] - 1s 6ms/step - loss: 0.6517 - accuracy: 0.6367 - val_loss: 0.6519 - val_accuracy: 0.6355 - lr: 9.7656e-07\n",
      "Epoch 88/200\n",
      "153/153 [==============================] - 1s 6ms/step - loss: 0.6517 - accuracy: 0.6367 - val_loss: 0.6519 - val_accuracy: 0.6355 - lr: 9.7656e-07\n",
      "Epoch 89/200\n",
      "153/153 [==============================] - 1s 6ms/step - loss: 0.6517 - accuracy: 0.6367 - val_loss: 0.6519 - val_accuracy: 0.6355 - lr: 9.7656e-07\n",
      "Epoch 90/200\n",
      "153/153 [==============================] - 1s 6ms/step - loss: 0.6517 - accuracy: 0.6367 - val_loss: 0.6519 - val_accuracy: 0.6355 - lr: 9.7656e-07\n",
      "Epoch 91/200\n",
      "153/153 [==============================] - 1s 6ms/step - loss: 0.6517 - accuracy: 0.6367 - val_loss: 0.6519 - val_accuracy: 0.6355 - lr: 9.7656e-07\n",
      "Epoch 92/200\n",
      "153/153 [==============================] - 1s 6ms/step - loss: 0.6517 - accuracy: 0.6367 - val_loss: 0.6519 - val_accuracy: 0.6355 - lr: 9.7656e-07\n",
      "Epoch 93/200\n",
      "153/153 [==============================] - 1s 6ms/step - loss: 0.6517 - accuracy: 0.6367 - val_loss: 0.6518 - val_accuracy: 0.6355 - lr: 4.8828e-07\n",
      "Epoch 94/200\n",
      "153/153 [==============================] - 1s 6ms/step - loss: 0.6517 - accuracy: 0.6367 - val_loss: 0.6518 - val_accuracy: 0.6355 - lr: 4.8828e-07\n",
      "Epoch 95/200\n",
      "153/153 [==============================] - 1s 6ms/step - loss: 0.6517 - accuracy: 0.6367 - val_loss: 0.6518 - val_accuracy: 0.6355 - lr: 4.8828e-07\n",
      "Epoch 96/200\n",
      "153/153 [==============================] - 1s 6ms/step - loss: 0.6517 - accuracy: 0.6367 - val_loss: 0.6518 - val_accuracy: 0.6355 - lr: 4.8828e-07\n",
      "Epoch 97/200\n",
      "153/153 [==============================] - 1s 6ms/step - loss: 0.6517 - accuracy: 0.6367 - val_loss: 0.6518 - val_accuracy: 0.6355 - lr: 4.8828e-07\n",
      "Epoch 98/200\n",
      "153/153 [==============================] - 1s 6ms/step - loss: 0.6516 - accuracy: 0.6367 - val_loss: 0.6518 - val_accuracy: 0.6355 - lr: 2.4414e-07\n",
      "Epoch 99/200\n",
      "153/153 [==============================] - 1s 6ms/step - loss: 0.6516 - accuracy: 0.6367 - val_loss: 0.6518 - val_accuracy: 0.6355 - lr: 2.4414e-07\n",
      "Epoch 100/200\n",
      "153/153 [==============================] - 1s 6ms/step - loss: 0.6516 - accuracy: 0.6367 - val_loss: 0.6518 - val_accuracy: 0.6355 - lr: 2.4414e-07\n",
      "Epoch 101/200\n",
      "153/153 [==============================] - 1s 6ms/step - loss: 0.6516 - accuracy: 0.6367 - val_loss: 0.6518 - val_accuracy: 0.6355 - lr: 2.4414e-07\n",
      "Epoch 102/200\n",
      "153/153 [==============================] - 1s 6ms/step - loss: 0.6516 - accuracy: 0.6367 - val_loss: 0.6518 - val_accuracy: 0.6355 - lr: 2.4414e-07\n",
      "Epoch 103/200\n",
      "153/153 [==============================] - 1s 6ms/step - loss: 0.6516 - accuracy: 0.6367 - val_loss: 0.6518 - val_accuracy: 0.6355 - lr: 1.2207e-07\n",
      "Epoch 104/200\n",
      "153/153 [==============================] - 1s 6ms/step - loss: 0.6516 - accuracy: 0.6367 - val_loss: 0.6518 - val_accuracy: 0.6355 - lr: 1.2207e-07\n",
      "Epoch 105/200\n",
      "153/153 [==============================] - 1s 6ms/step - loss: 0.6516 - accuracy: 0.6367 - val_loss: 0.6518 - val_accuracy: 0.6355 - lr: 1.2207e-07\n",
      "Epoch 106/200\n",
      "153/153 [==============================] - 1s 6ms/step - loss: 0.6516 - accuracy: 0.6367 - val_loss: 0.6518 - val_accuracy: 0.6355 - lr: 1.2207e-07\n",
      "Epoch 107/200\n",
      "153/153 [==============================] - 1s 6ms/step - loss: 0.6516 - accuracy: 0.6367 - val_loss: 0.6518 - val_accuracy: 0.6355 - lr: 1.2207e-07\n",
      "Epoch 108/200\n",
      "153/153 [==============================] - 1s 6ms/step - loss: 0.6516 - accuracy: 0.6367 - val_loss: 0.6518 - val_accuracy: 0.6355 - lr: 1.2207e-07\n",
      "Epoch 109/200\n",
      "153/153 [==============================] - 1s 6ms/step - loss: 0.6516 - accuracy: 0.6367 - val_loss: 0.6518 - val_accuracy: 0.6355 - lr: 1.0000e-07\n",
      "Epoch 110/200\n",
      "153/153 [==============================] - 1s 6ms/step - loss: 0.6516 - accuracy: 0.6367 - val_loss: 0.6518 - val_accuracy: 0.6355 - lr: 1.0000e-07\n",
      "Epoch 111/200\n",
      "153/153 [==============================] - 1s 6ms/step - loss: 0.6516 - accuracy: 0.6367 - val_loss: 0.6518 - val_accuracy: 0.6355 - lr: 1.0000e-07\n",
      "Epoch 112/200\n",
      "153/153 [==============================] - 1s 6ms/step - loss: 0.6516 - accuracy: 0.6367 - val_loss: 0.6518 - val_accuracy: 0.6355 - lr: 1.0000e-07\n",
      "Epoch 113/200\n",
      "153/153 [==============================] - 1s 6ms/step - loss: 0.6516 - accuracy: 0.6367 - val_loss: 0.6518 - val_accuracy: 0.6355 - lr: 1.0000e-07\n",
      "Epoch 114/200\n",
      "153/153 [==============================] - 1s 6ms/step - loss: 0.6516 - accuracy: 0.6367 - val_loss: 0.6518 - val_accuracy: 0.6355 - lr: 1.0000e-07\n",
      "Epoch 115/200\n",
      "153/153 [==============================] - 1s 6ms/step - loss: 0.6516 - accuracy: 0.6367 - val_loss: 0.6518 - val_accuracy: 0.6355 - lr: 1.0000e-07\n",
      "Epoch 116/200\n",
      "153/153 [==============================] - 1s 6ms/step - loss: 0.6516 - accuracy: 0.6367 - val_loss: 0.6518 - val_accuracy: 0.6355 - lr: 1.0000e-07\n",
      "Epoch 117/200\n",
      "153/153 [==============================] - 1s 6ms/step - loss: 0.6516 - accuracy: 0.6367 - val_loss: 0.6518 - val_accuracy: 0.6355 - lr: 1.0000e-07\n",
      "Epoch 118/200\n",
      "153/153 [==============================] - 1s 6ms/step - loss: 0.6516 - accuracy: 0.6367 - val_loss: 0.6518 - val_accuracy: 0.6355 - lr: 1.0000e-07\n",
      "Epoch 119/200\n",
      "153/153 [==============================] - 1s 6ms/step - loss: 0.6516 - accuracy: 0.6367 - val_loss: 0.6518 - val_accuracy: 0.6355 - lr: 1.0000e-07\n",
      "Epoch 120/200\n",
      "153/153 [==============================] - 1s 6ms/step - loss: 0.6516 - accuracy: 0.6367 - val_loss: 0.6518 - val_accuracy: 0.6355 - lr: 1.0000e-07\n",
      "Epoch 121/200\n",
      "153/153 [==============================] - 1s 6ms/step - loss: 0.6516 - accuracy: 0.6367 - val_loss: 0.6518 - val_accuracy: 0.6355 - lr: 1.0000e-07\n",
      "Epoch 122/200\n",
      "153/153 [==============================] - 1s 6ms/step - loss: 0.6516 - accuracy: 0.6367 - val_loss: 0.6518 - val_accuracy: 0.6355 - lr: 1.0000e-07\n",
      "Epoch 123/200\n",
      "153/153 [==============================] - 1s 6ms/step - loss: 0.6516 - accuracy: 0.6367 - val_loss: 0.6518 - val_accuracy: 0.6355 - lr: 1.0000e-07\n",
      "Epoch 124/200\n",
      "153/153 [==============================] - 1s 6ms/step - loss: 0.6516 - accuracy: 0.6367 - val_loss: 0.6518 - val_accuracy: 0.6355 - lr: 1.0000e-07\n",
      "Epoch 125/200\n",
      "153/153 [==============================] - 1s 6ms/step - loss: 0.6516 - accuracy: 0.6367 - val_loss: 0.6518 - val_accuracy: 0.6355 - lr: 1.0000e-07\n",
      "Epoch 126/200\n",
      "153/153 [==============================] - 1s 6ms/step - loss: 0.6516 - accuracy: 0.6367 - val_loss: 0.6518 - val_accuracy: 0.6355 - lr: 1.0000e-07\n",
      "Epoch 127/200\n",
      "153/153 [==============================] - 1s 6ms/step - loss: 0.6516 - accuracy: 0.6367 - val_loss: 0.6518 - val_accuracy: 0.6355 - lr: 1.0000e-07\n",
      "Epoch 128/200\n",
      "153/153 [==============================] - 1s 6ms/step - loss: 0.6516 - accuracy: 0.6367 - val_loss: 0.6518 - val_accuracy: 0.6355 - lr: 1.0000e-07\n",
      "Epoch 129/200\n",
      "153/153 [==============================] - 1s 6ms/step - loss: 0.6516 - accuracy: 0.6367 - val_loss: 0.6518 - val_accuracy: 0.6355 - lr: 1.0000e-07\n",
      "Epoch 130/200\n",
      "153/153 [==============================] - 1s 6ms/step - loss: 0.6516 - accuracy: 0.6367 - val_loss: 0.6518 - val_accuracy: 0.6355 - lr: 1.0000e-07\n",
      "Epoch 131/200\n",
      "153/153 [==============================] - 1s 6ms/step - loss: 0.6516 - accuracy: 0.6367 - val_loss: 0.6518 - val_accuracy: 0.6355 - lr: 1.0000e-07\n",
      "Epoch 132/200\n",
      "153/153 [==============================] - 1s 6ms/step - loss: 0.6516 - accuracy: 0.6367 - val_loss: 0.6518 - val_accuracy: 0.6355 - lr: 1.0000e-07\n",
      "Epoch 133/200\n",
      "153/153 [==============================] - 1s 6ms/step - loss: 0.6516 - accuracy: 0.6367 - val_loss: 0.6518 - val_accuracy: 0.6355 - lr: 1.0000e-07\n",
      "Epoch 134/200\n",
      "153/153 [==============================] - 1s 6ms/step - loss: 0.6516 - accuracy: 0.6367 - val_loss: 0.6518 - val_accuracy: 0.6355 - lr: 1.0000e-07\n",
      "Epoch 135/200\n",
      "153/153 [==============================] - 1s 6ms/step - loss: 0.6516 - accuracy: 0.6367 - val_loss: 0.6518 - val_accuracy: 0.6355 - lr: 1.0000e-07\n",
      "Epoch 136/200\n",
      "153/153 [==============================] - 1s 6ms/step - loss: 0.6516 - accuracy: 0.6367 - val_loss: 0.6518 - val_accuracy: 0.6355 - lr: 1.0000e-07\n",
      "Epoch 137/200\n",
      "153/153 [==============================] - 1s 6ms/step - loss: 0.6516 - accuracy: 0.6367 - val_loss: 0.6518 - val_accuracy: 0.6355 - lr: 1.0000e-07\n",
      "Epoch 138/200\n",
      "153/153 [==============================] - 1s 6ms/step - loss: 0.6516 - accuracy: 0.6367 - val_loss: 0.6518 - val_accuracy: 0.6355 - lr: 1.0000e-07\n",
      "Epoch 139/200\n",
      "153/153 [==============================] - 1s 6ms/step - loss: 0.6516 - accuracy: 0.6367 - val_loss: 0.6518 - val_accuracy: 0.6355 - lr: 1.0000e-07\n",
      "Epoch 140/200\n",
      "153/153 [==============================] - 1s 6ms/step - loss: 0.6516 - accuracy: 0.6367 - val_loss: 0.6518 - val_accuracy: 0.6355 - lr: 1.0000e-07\n",
      "Epoch 141/200\n",
      "153/153 [==============================] - 1s 6ms/step - loss: 0.6516 - accuracy: 0.6367 - val_loss: 0.6518 - val_accuracy: 0.6355 - lr: 1.0000e-07\n",
      "Epoch 142/200\n",
      "153/153 [==============================] - 1s 6ms/step - loss: 0.6516 - accuracy: 0.6367 - val_loss: 0.6518 - val_accuracy: 0.6355 - lr: 1.0000e-07\n",
      "Epoch 143/200\n",
      "153/153 [==============================] - 1s 6ms/step - loss: 0.6516 - accuracy: 0.6367 - val_loss: 0.6518 - val_accuracy: 0.6355 - lr: 1.0000e-07\n",
      "Epoch 144/200\n",
      "153/153 [==============================] - 1s 6ms/step - loss: 0.6516 - accuracy: 0.6367 - val_loss: 0.6518 - val_accuracy: 0.6355 - lr: 1.0000e-07\n",
      "Epoch 145/200\n",
      "153/153 [==============================] - 1s 6ms/step - loss: 0.6516 - accuracy: 0.6367 - val_loss: 0.6518 - val_accuracy: 0.6355 - lr: 1.0000e-07\n",
      "Epoch 146/200\n",
      "153/153 [==============================] - 1s 6ms/step - loss: 0.6516 - accuracy: 0.6367 - val_loss: 0.6518 - val_accuracy: 0.6355 - lr: 1.0000e-07\n",
      "Epoch 147/200\n",
      "153/153 [==============================] - 1s 6ms/step - loss: 0.6516 - accuracy: 0.6367 - val_loss: 0.6518 - val_accuracy: 0.6355 - lr: 1.0000e-07\n",
      "Epoch 148/200\n",
      "153/153 [==============================] - 1s 6ms/step - loss: 0.6516 - accuracy: 0.6367 - val_loss: 0.6518 - val_accuracy: 0.6355 - lr: 1.0000e-07\n",
      "Epoch 149/200\n",
      "153/153 [==============================] - 1s 6ms/step - loss: 0.6516 - accuracy: 0.6367 - val_loss: 0.6518 - val_accuracy: 0.6355 - lr: 1.0000e-07\n",
      "Epoch 150/200\n",
      "153/153 [==============================] - 1s 6ms/step - loss: 0.6516 - accuracy: 0.6367 - val_loss: 0.6518 - val_accuracy: 0.6355 - lr: 1.0000e-07\n",
      "Epoch 151/200\n",
      "153/153 [==============================] - 1s 6ms/step - loss: 0.6516 - accuracy: 0.6367 - val_loss: 0.6518 - val_accuracy: 0.6355 - lr: 1.0000e-07\n",
      "Epoch 152/200\n",
      "153/153 [==============================] - 1s 6ms/step - loss: 0.6516 - accuracy: 0.6367 - val_loss: 0.6518 - val_accuracy: 0.6355 - lr: 1.0000e-07\n",
      "Epoch 153/200\n",
      "153/153 [==============================] - 1s 6ms/step - loss: 0.6516 - accuracy: 0.6367 - val_loss: 0.6518 - val_accuracy: 0.6355 - lr: 1.0000e-07\n",
      "Epoch 154/200\n",
      "153/153 [==============================] - 1s 6ms/step - loss: 0.6516 - accuracy: 0.6367 - val_loss: 0.6518 - val_accuracy: 0.6355 - lr: 1.0000e-07\n",
      "Epoch 155/200\n",
      "153/153 [==============================] - 1s 6ms/step - loss: 0.6516 - accuracy: 0.6367 - val_loss: 0.6518 - val_accuracy: 0.6355 - lr: 1.0000e-07\n",
      "Epoch 156/200\n",
      "153/153 [==============================] - 1s 6ms/step - loss: 0.6516 - accuracy: 0.6367 - val_loss: 0.6518 - val_accuracy: 0.6355 - lr: 1.0000e-07\n",
      "Epoch 157/200\n",
      "153/153 [==============================] - 1s 6ms/step - loss: 0.6516 - accuracy: 0.6367 - val_loss: 0.6518 - val_accuracy: 0.6355 - lr: 1.0000e-07\n",
      "Epoch 158/200\n",
      "153/153 [==============================] - 1s 6ms/step - loss: 0.6516 - accuracy: 0.6367 - val_loss: 0.6518 - val_accuracy: 0.6355 - lr: 1.0000e-07\n",
      "Epoch 159/200\n",
      "153/153 [==============================] - 1s 6ms/step - loss: 0.6516 - accuracy: 0.6367 - val_loss: 0.6518 - val_accuracy: 0.6355 - lr: 1.0000e-07\n",
      "Epoch 160/200\n",
      "153/153 [==============================] - 1s 6ms/step - loss: 0.6516 - accuracy: 0.6367 - val_loss: 0.6518 - val_accuracy: 0.6355 - lr: 1.0000e-07\n",
      "Epoch 161/200\n",
      "153/153 [==============================] - 1s 6ms/step - loss: 0.6516 - accuracy: 0.6367 - val_loss: 0.6518 - val_accuracy: 0.6355 - lr: 1.0000e-07\n",
      "Epoch 162/200\n",
      "153/153 [==============================] - 1s 6ms/step - loss: 0.6516 - accuracy: 0.6367 - val_loss: 0.6518 - val_accuracy: 0.6355 - lr: 1.0000e-07\n",
      "Epoch 163/200\n",
      "153/153 [==============================] - 1s 6ms/step - loss: 0.6516 - accuracy: 0.6367 - val_loss: 0.6518 - val_accuracy: 0.6355 - lr: 1.0000e-07\n",
      "Epoch 164/200\n",
      "153/153 [==============================] - 1s 6ms/step - loss: 0.6516 - accuracy: 0.6367 - val_loss: 0.6518 - val_accuracy: 0.6355 - lr: 1.0000e-07\n",
      "Epoch 165/200\n",
      "153/153 [==============================] - 1s 6ms/step - loss: 0.6516 - accuracy: 0.6367 - val_loss: 0.6518 - val_accuracy: 0.6355 - lr: 1.0000e-07\n",
      "Epoch 166/200\n",
      "153/153 [==============================] - 1s 6ms/step - loss: 0.6516 - accuracy: 0.6367 - val_loss: 0.6518 - val_accuracy: 0.6355 - lr: 1.0000e-07\n",
      "Epoch 167/200\n",
      "153/153 [==============================] - 1s 6ms/step - loss: 0.6516 - accuracy: 0.6367 - val_loss: 0.6518 - val_accuracy: 0.6355 - lr: 1.0000e-07\n",
      "Epoch 168/200\n",
      "153/153 [==============================] - 1s 6ms/step - loss: 0.6516 - accuracy: 0.6367 - val_loss: 0.6518 - val_accuracy: 0.6355 - lr: 1.0000e-07\n",
      "Epoch 169/200\n",
      "153/153 [==============================] - 1s 6ms/step - loss: 0.6516 - accuracy: 0.6367 - val_loss: 0.6518 - val_accuracy: 0.6355 - lr: 1.0000e-07\n",
      "Epoch 170/200\n",
      "153/153 [==============================] - 1s 6ms/step - loss: 0.6516 - accuracy: 0.6367 - val_loss: 0.6518 - val_accuracy: 0.6355 - lr: 1.0000e-07\n",
      "Epoch 171/200\n",
      "153/153 [==============================] - 1s 6ms/step - loss: 0.6516 - accuracy: 0.6367 - val_loss: 0.6518 - val_accuracy: 0.6355 - lr: 1.0000e-07\n",
      "Epoch 172/200\n",
      "153/153 [==============================] - 1s 6ms/step - loss: 0.6516 - accuracy: 0.6367 - val_loss: 0.6518 - val_accuracy: 0.6355 - lr: 1.0000e-07\n",
      "Epoch 173/200\n",
      "153/153 [==============================] - 1s 6ms/step - loss: 0.6516 - accuracy: 0.6367 - val_loss: 0.6518 - val_accuracy: 0.6355 - lr: 1.0000e-07\n",
      "Epoch 174/200\n",
      "153/153 [==============================] - 1s 6ms/step - loss: 0.6516 - accuracy: 0.6367 - val_loss: 0.6518 - val_accuracy: 0.6355 - lr: 1.0000e-07\n",
      "Epoch 175/200\n",
      "153/153 [==============================] - 1s 6ms/step - loss: 0.6516 - accuracy: 0.6367 - val_loss: 0.6518 - val_accuracy: 0.6355 - lr: 1.0000e-07\n",
      "Epoch 176/200\n",
      "153/153 [==============================] - 1s 6ms/step - loss: 0.6516 - accuracy: 0.6367 - val_loss: 0.6518 - val_accuracy: 0.6355 - lr: 1.0000e-07\n",
      "Epoch 177/200\n",
      "153/153 [==============================] - 1s 6ms/step - loss: 0.6516 - accuracy: 0.6367 - val_loss: 0.6518 - val_accuracy: 0.6355 - lr: 1.0000e-07\n",
      "Epoch 178/200\n",
      "153/153 [==============================] - 1s 6ms/step - loss: 0.6516 - accuracy: 0.6367 - val_loss: 0.6518 - val_accuracy: 0.6355 - lr: 1.0000e-07\n",
      "Epoch 179/200\n",
      "153/153 [==============================] - 1s 6ms/step - loss: 0.6516 - accuracy: 0.6367 - val_loss: 0.6518 - val_accuracy: 0.6355 - lr: 1.0000e-07\n",
      "Epoch 180/200\n",
      "153/153 [==============================] - 1s 6ms/step - loss: 0.6516 - accuracy: 0.6367 - val_loss: 0.6518 - val_accuracy: 0.6355 - lr: 1.0000e-07\n",
      "Epoch 181/200\n",
      "153/153 [==============================] - 1s 6ms/step - loss: 0.6516 - accuracy: 0.6367 - val_loss: 0.6518 - val_accuracy: 0.6355 - lr: 1.0000e-07\n",
      "Epoch 182/200\n",
      "153/153 [==============================] - 1s 6ms/step - loss: 0.6516 - accuracy: 0.6367 - val_loss: 0.6518 - val_accuracy: 0.6355 - lr: 1.0000e-07\n",
      "Epoch 183/200\n",
      "153/153 [==============================] - 1s 6ms/step - loss: 0.6516 - accuracy: 0.6367 - val_loss: 0.6518 - val_accuracy: 0.6355 - lr: 1.0000e-07\n",
      "Epoch 184/200\n",
      "153/153 [==============================] - 1s 6ms/step - loss: 0.6516 - accuracy: 0.6367 - val_loss: 0.6518 - val_accuracy: 0.6355 - lr: 1.0000e-07\n",
      "Epoch 185/200\n",
      "153/153 [==============================] - 1s 6ms/step - loss: 0.6516 - accuracy: 0.6367 - val_loss: 0.6518 - val_accuracy: 0.6355 - lr: 1.0000e-07\n",
      "Epoch 186/200\n",
      "153/153 [==============================] - 1s 6ms/step - loss: 0.6516 - accuracy: 0.6367 - val_loss: 0.6518 - val_accuracy: 0.6355 - lr: 1.0000e-07\n",
      "Epoch 187/200\n",
      "153/153 [==============================] - 1s 6ms/step - loss: 0.6516 - accuracy: 0.6367 - val_loss: 0.6518 - val_accuracy: 0.6355 - lr: 1.0000e-07\n",
      "Epoch 188/200\n",
      "153/153 [==============================] - 1s 6ms/step - loss: 0.6516 - accuracy: 0.6367 - val_loss: 0.6518 - val_accuracy: 0.6355 - lr: 1.0000e-07\n",
      "Epoch 189/200\n",
      "153/153 [==============================] - 1s 6ms/step - loss: 0.6516 - accuracy: 0.6367 - val_loss: 0.6518 - val_accuracy: 0.6355 - lr: 1.0000e-07\n",
      "Epoch 190/200\n",
      "153/153 [==============================] - 1s 6ms/step - loss: 0.6516 - accuracy: 0.6367 - val_loss: 0.6518 - val_accuracy: 0.6355 - lr: 1.0000e-07\n",
      "Epoch 191/200\n",
      "153/153 [==============================] - 1s 6ms/step - loss: 0.6516 - accuracy: 0.6367 - val_loss: 0.6518 - val_accuracy: 0.6355 - lr: 1.0000e-07\n",
      "Epoch 192/200\n",
      "153/153 [==============================] - 1s 6ms/step - loss: 0.6516 - accuracy: 0.6367 - val_loss: 0.6518 - val_accuracy: 0.6355 - lr: 1.0000e-07\n",
      "Epoch 193/200\n",
      "153/153 [==============================] - 1s 6ms/step - loss: 0.6516 - accuracy: 0.6367 - val_loss: 0.6518 - val_accuracy: 0.6355 - lr: 1.0000e-07\n",
      "Epoch 194/200\n",
      "153/153 [==============================] - 1s 6ms/step - loss: 0.6516 - accuracy: 0.6367 - val_loss: 0.6518 - val_accuracy: 0.6355 - lr: 1.0000e-07\n",
      "Epoch 195/200\n",
      "153/153 [==============================] - 1s 6ms/step - loss: 0.6516 - accuracy: 0.6367 - val_loss: 0.6518 - val_accuracy: 0.6355 - lr: 1.0000e-07\n",
      "Epoch 196/200\n",
      "153/153 [==============================] - 1s 6ms/step - loss: 0.6516 - accuracy: 0.6367 - val_loss: 0.6518 - val_accuracy: 0.6355 - lr: 1.0000e-07\n",
      "Epoch 197/200\n",
      "153/153 [==============================] - 1s 6ms/step - loss: 0.6516 - accuracy: 0.6367 - val_loss: 0.6518 - val_accuracy: 0.6355 - lr: 1.0000e-07\n",
      "Epoch 198/200\n",
      "153/153 [==============================] - 1s 6ms/step - loss: 0.6516 - accuracy: 0.6367 - val_loss: 0.6518 - val_accuracy: 0.6355 - lr: 1.0000e-07\n",
      "Epoch 199/200\n",
      "153/153 [==============================] - 1s 6ms/step - loss: 0.6516 - accuracy: 0.6367 - val_loss: 0.6518 - val_accuracy: 0.6355 - lr: 1.0000e-07\n",
      "Epoch 200/200\n",
      "153/153 [==============================] - 1s 6ms/step - loss: 0.6516 - accuracy: 0.6367 - val_loss: 0.6518 - val_accuracy: 0.6355 - lr: 1.0000e-07\n"
     ]
    }
   ],
   "source": [
    "ann.compile(loss='binary_crossentropy', optimizer=tf.keras.optimizers.Adam(learning_rate=0.001), metrics=['accuracy'])\n",
    "\n",
    "es = tf.keras.callbacks.EarlyStopping(patience=50, restore_best_weights=True)\n",
    "lr = tf.keras.callbacks.ReduceLROnPlateau(patience=5, factor=.5, min_lr=1e-7)\n",
    "\n",
    "history = ann.fit(X_train, y_train, epochs = 200, validation_split=.2, callbacks=[lr])\n"
   ]
  },
  {
   "cell_type": "markdown",
   "metadata": {},
   "source": [
    "# The result\n",
    "\n",
    "RNNs tend to find these plateaus where it reaches something close to equilibrium, then breaks out of it rapidly. You can see that in the graphs below.\n",
    "\n",
    "The result is less than optimal. Lots of overfitting happening."
   ]
  },
  {
   "cell_type": "code",
   "execution_count": 59,
   "metadata": {},
   "outputs": [
    {
     "data": {
      "image/png": "[encoded data removed]",
      "text/plain": [
       "<Figure size 2000x1000 with 2 Axes>"
      ]
     },
     "metadata": {},
     "output_type": "display_data"
    }
   ],
   "source": [
    "figure = plt.figure(figsize=(20, 10))\n",
    "ax = figure.add_subplot(1, 2, 1, title='Learning curves (loss)')\n",
    "ax.set_xlabel(\"Epoch\")\n",
    "ax.set_ylabel(\"Loss\")\n",
    "ax.plot(history.history['loss'][2:], label = 'train')\n",
    "ax.plot(history.history['val_loss'][2:], label = 'valid')\n",
    "ax.legend()\n",
    "\n",
    "ax = figure.add_subplot(1, 2, 2, title='Learning curves (accuracy)')\n",
    "ax.set_xlabel(\"Epoch\")\n",
    "ax.set_ylabel(\"Accuracy\")\n",
    "ax.plot(history.history['accuracy'], label = 'train')\n",
    "ax.plot(history.history['val_accuracy'], label = 'valid')\n",
    "ax.legend()\n",
    "\n",
    "plt.show()"
   ]
  },
  {
   "cell_type": "code",
   "execution_count": 60,
   "metadata": {},
   "outputs": [
    {
     "name": "stdout",
     "output_type": "stream",
     "text": [
      "191/191 [==============================] - 0s 2ms/step - loss: 0.6516 - accuracy: 0.6365\n",
      "48/48 [==============================] - 0s 2ms/step - loss: 0.6596 - accuracy: 0.6257\n"
     ]
    },
    {
     "data": {
      "text/plain": [
       "[0.6595889925956726, 0.6257386803627014]"
      ]
     },
     "execution_count": 60,
     "metadata": {},
     "output_type": "execute_result"
    }
   ],
   "source": [
    "ann.evaluate(X_train, y_train)\n",
    "ann.evaluate(X_test, y_test)"
   ]
  }
 ],
 "metadata": {
  "kernelspec": {
   "display_name": "Python 3",
   "language": "python",
   "name": "python3"
  },
  "language_info": {
   "codemirror_mode": {
    "name": "ipython",
    "version": 3
   },
   "file_extension": ".py",
   "mimetype": "text/x-python",
   "name": "python",
   "nbconvert_exporter": "python",
   "pygments_lexer": "ipython3",
   "version": "3.11.5"
  },
  "orig_nbformat": 4
 },
 "nbformat": 4,
 "nbformat_minor": 2
}
